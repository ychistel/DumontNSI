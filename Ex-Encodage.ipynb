{
 "cells": [
  {
   "cell_type": "markdown",
   "metadata": {},
   "source": [
    "# Exercice 1\n",
    "En python, il existe des fonctions qui permettent de retrouver le code d’un caratère. Ces fonctions sont ord, hex et chr.\n",
    "1. Dans un notebook Jupyter, saisir dans une cellule : help(nom de la fonction) pour savoir ce que font les fonctions ord, hex et chr.\n",
    "2. Quels sont les codes héxadécimaux associés aux caractères : a, F, 9, 0, % et +.\n",
    "3. Quels sont les caractères dont le code hexadécimal est : 21, 26, 3E, et 5F.\n",
    "4. Créer une boucle qui affiche tous les caractères ASCII, son code décimal et son code héxadécimal."
   ]
  },
  {
   "cell_type": "markdown",
   "metadata": {},
   "source": [
    "2. Code hexadécimaux des caractères"
   ]
  },
  {
   "cell_type": "code",
   "execution_count": 10,
   "metadata": {},
   "outputs": [
    {
     "data": {
      "text/plain": [
       "'0x61'"
      ]
     },
     "execution_count": 10,
     "metadata": {},
     "output_type": "execute_result"
    }
   ],
   "source": [
    "hex(ord('a'))"
   ]
  },
  {
   "cell_type": "code",
   "execution_count": 11,
   "metadata": {},
   "outputs": [
    {
     "data": {
      "text/plain": [
       "'0x46'"
      ]
     },
     "execution_count": 11,
     "metadata": {},
     "output_type": "execute_result"
    }
   ],
   "source": [
    "hex(ord('F'))"
   ]
  },
  {
   "cell_type": "code",
   "execution_count": 12,
   "metadata": {},
   "outputs": [
    {
     "data": {
      "text/plain": [
       "'0x39'"
      ]
     },
     "execution_count": 12,
     "metadata": {},
     "output_type": "execute_result"
    }
   ],
   "source": [
    "hex(ord('9'))"
   ]
  },
  {
   "cell_type": "code",
   "execution_count": 13,
   "metadata": {},
   "outputs": [
    {
     "data": {
      "text/plain": [
       "'0x25'"
      ]
     },
     "execution_count": 13,
     "metadata": {},
     "output_type": "execute_result"
    }
   ],
   "source": [
    "hex(ord('%'))"
   ]
  },
  {
   "cell_type": "code",
   "execution_count": 14,
   "metadata": {},
   "outputs": [
    {
     "data": {
      "text/plain": [
       "'0x2b'"
      ]
     },
     "execution_count": 14,
     "metadata": {},
     "output_type": "execute_result"
    }
   ],
   "source": [
    "hex(ord('+'))"
   ]
  },
  {
   "cell_type": "markdown",
   "metadata": {},
   "source": [
    "3. Caractère associé à un code hexadécimal"
   ]
  },
  {
   "cell_type": "code",
   "execution_count": 19,
   "metadata": {},
   "outputs": [
    {
     "data": {
      "text/plain": [
       "'!'"
      ]
     },
     "execution_count": 19,
     "metadata": {},
     "output_type": "execute_result"
    }
   ],
   "source": [
    "chr(int('21',16))"
   ]
  },
  {
   "cell_type": "code",
   "execution_count": 20,
   "metadata": {},
   "outputs": [
    {
     "data": {
      "text/plain": [
       "'&'"
      ]
     },
     "execution_count": 20,
     "metadata": {},
     "output_type": "execute_result"
    }
   ],
   "source": [
    "chr(int('26',16))"
   ]
  },
  {
   "cell_type": "code",
   "execution_count": 21,
   "metadata": {},
   "outputs": [
    {
     "data": {
      "text/plain": [
       "'>'"
      ]
     },
     "execution_count": 21,
     "metadata": {},
     "output_type": "execute_result"
    }
   ],
   "source": [
    "chr(int('3E',16))"
   ]
  },
  {
   "cell_type": "code",
   "execution_count": 22,
   "metadata": {},
   "outputs": [
    {
     "data": {
      "text/plain": [
       "'_'"
      ]
     },
     "execution_count": 22,
     "metadata": {},
     "output_type": "execute_result"
    }
   ],
   "source": [
    "chr(int('5F',16))"
   ]
  },
  {
   "cell_type": "markdown",
   "metadata": {},
   "source": [
    "4. Boucle qui affiche tous les caractères ASCII, son code décimal et son code héxadécimal."
   ]
  },
  {
   "cell_type": "code",
   "execution_count": 23,
   "metadata": {
    "scrolled": false
   },
   "outputs": [
    {
     "name": "stdout",
     "output_type": "stream",
     "text": [
      "0 0x0 \u0000\n",
      "1 0x1 \u0001\n",
      "2 0x2 \u0002\n",
      "3 0x3 \u0003\n",
      "4 0x4 \u0004\n",
      "5 0x5 \u0005\n",
      "6 0x6 \u0006\n",
      "7 0x7 \u0007\n",
      "8 0x8 \b\n",
      "9 0x9 \t\n",
      "10 0xa \n",
      "\n",
      "11 0xb \u000b",
      "\n",
      "12 0xc \f",
      "\n",
      "13 0xd \r\n",
      "14 0xe \u000e\n",
      "15 0xf \u000f\n",
      "16 0x10 \u0010\n",
      "17 0x11 \u0011\n",
      "18 0x12 \u0012\n",
      "19 0x13 \u0013\n",
      "20 0x14 \u0014\n",
      "21 0x15 \u0015\n",
      "22 0x16 \u0016\n",
      "23 0x17 \u0017\n",
      "24 0x18 \u0018\n",
      "25 0x19 \u0019\n",
      "26 0x1a \u001a\n",
      "27 0x1b \u001b\n",
      "28 0x1c \u001c",
      "\n",
      "29 0x1d \u001d",
      "\n",
      "30 0x1e \u001e",
      "\n",
      "31 0x1f \u001f\n",
      "32 0x20  \n",
      "33 0x21 !\n",
      "34 0x22 \"\n",
      "35 0x23 #\n",
      "36 0x24 $\n",
      "37 0x25 %\n",
      "38 0x26 &\n",
      "39 0x27 '\n",
      "40 0x28 (\n",
      "41 0x29 )\n",
      "42 0x2a *\n",
      "43 0x2b +\n",
      "44 0x2c ,\n",
      "45 0x2d -\n",
      "46 0x2e .\n",
      "47 0x2f /\n",
      "48 0x30 0\n",
      "49 0x31 1\n",
      "50 0x32 2\n",
      "51 0x33 3\n",
      "52 0x34 4\n",
      "53 0x35 5\n",
      "54 0x36 6\n",
      "55 0x37 7\n",
      "56 0x38 8\n",
      "57 0x39 9\n",
      "58 0x3a :\n",
      "59 0x3b ;\n",
      "60 0x3c <\n",
      "61 0x3d =\n",
      "62 0x3e >\n",
      "63 0x3f ?\n",
      "64 0x40 @\n",
      "65 0x41 A\n",
      "66 0x42 B\n",
      "67 0x43 C\n",
      "68 0x44 D\n",
      "69 0x45 E\n",
      "70 0x46 F\n",
      "71 0x47 G\n",
      "72 0x48 H\n",
      "73 0x49 I\n",
      "74 0x4a J\n",
      "75 0x4b K\n",
      "76 0x4c L\n",
      "77 0x4d M\n",
      "78 0x4e N\n",
      "79 0x4f O\n",
      "80 0x50 P\n",
      "81 0x51 Q\n",
      "82 0x52 R\n",
      "83 0x53 S\n",
      "84 0x54 T\n",
      "85 0x55 U\n",
      "86 0x56 V\n",
      "87 0x57 W\n",
      "88 0x58 X\n",
      "89 0x59 Y\n",
      "90 0x5a Z\n",
      "91 0x5b [\n",
      "92 0x5c \\\n",
      "93 0x5d ]\n",
      "94 0x5e ^\n",
      "95 0x5f _\n",
      "96 0x60 `\n",
      "97 0x61 a\n",
      "98 0x62 b\n",
      "99 0x63 c\n",
      "100 0x64 d\n",
      "101 0x65 e\n",
      "102 0x66 f\n",
      "103 0x67 g\n",
      "104 0x68 h\n",
      "105 0x69 i\n",
      "106 0x6a j\n",
      "107 0x6b k\n",
      "108 0x6c l\n",
      "109 0x6d m\n",
      "110 0x6e n\n",
      "111 0x6f o\n",
      "112 0x70 p\n",
      "113 0x71 q\n",
      "114 0x72 r\n",
      "115 0x73 s\n",
      "116 0x74 t\n",
      "117 0x75 u\n",
      "118 0x76 v\n",
      "119 0x77 w\n",
      "120 0x78 x\n",
      "121 0x79 y\n",
      "122 0x7a z\n",
      "123 0x7b {\n",
      "124 0x7c |\n",
      "125 0x7d }\n",
      "126 0x7e ~\n",
      "127 0x7f \n"
     ]
    }
   ],
   "source": [
    "for i in range(128):\n",
    "    print(i,hex(i),chr(i))"
   ]
  },
  {
   "cell_type": "markdown",
   "metadata": {},
   "source": [
    "Sous la forme d'une Table ASCII:"
   ]
  },
  {
   "cell_type": "code",
   "execution_count": 56,
   "metadata": {},
   "outputs": [
    {
     "name": "stdout",
     "output_type": "stream",
     "text": [
      "    0 1 2 3 4 5 6 7 \n",
      "0x0       0 @ P ` p \n",
      "0x1     ! 1 A Q a q \n",
      "0x2     \" 2 B R b r \n",
      "0x3     # 3 C S c s \n",
      "0x4     $ 4 D T d t \n",
      "0x5     % 5 E U e u \n",
      "0x6     & 6 F V f v \n",
      "0x7     ' 7 G W g w \n",
      "0x8     ( 8 H X h x \n",
      "0x9     ) 9 I Y i y \n",
      "0xa     * : J Z j z \n",
      "0xb     + ; K [ k { \n",
      "0xc     , < L \\ l | \n",
      "0xd     - = M ] m } \n",
      "0xe     . > N ^ n ~ \n",
      "0xf     / ? O _ o  \n"
     ]
    }
   ],
   "source": [
    "print(\"   \",end=\" \")\n",
    "for i in range(8):\n",
    "    print(i,end=\" \")\n",
    "print()\n",
    "for i in range(16):\n",
    "    print(hex(i),\" \",\" \",end=\" \")\n",
    "    for j in range(2,8):\n",
    "        print(chr(i+j*16),end=\" \")\n",
    "    print()"
   ]
  },
  {
   "cell_type": "markdown",
   "metadata": {},
   "source": [
    "# Exercice 2\n",
    "\n",
    "Les caractères peuvent également être saisis directement par leur code ASCII avec la notation \\xhh où hh est le code hexadécimal du caractère. L’utilisation de \\ est un échappement et on parle de caractère échappé.\n",
    "\n",
    "1. Quel mot sera affiché si on saisit ’\\x4E\\x53\\x49’ ? Vérifier avec le notebook. \n",
    "\n",
    "```\n",
    "D'après la table ASCII ci-dessus, on remarque que 4E est le code hexadécimal de 'N', 53 est le code hexadécimal de S et 49 est le code hexadécimal de I.     \n",
    "On vérifie avec un print de la chaine.\n",
    "```\n",
    "2. Quel code hexadécimal faut-il saisir pour afficher le mot \"#HP\" ?\n",
    "\n",
    "```\n",
    "Pour afficher le mot \"#HP\" il faut saisir en hexadécimal '\\x23\\x48\\x50'. On vérifie ci-dessous.\n",
    "```"
   ]
  },
  {
   "cell_type": "code",
   "execution_count": 57,
   "metadata": {},
   "outputs": [
    {
     "name": "stdout",
     "output_type": "stream",
     "text": [
      "NSI\n"
     ]
    }
   ],
   "source": [
    "print('\\x4E\\x53\\x49')"
   ]
  },
  {
   "cell_type": "code",
   "execution_count": 58,
   "metadata": {},
   "outputs": [
    {
     "name": "stdout",
     "output_type": "stream",
     "text": [
      "#HP\n"
     ]
    }
   ],
   "source": [
    "print('\\x23\\x48\\x50')"
   ]
  },
  {
   "cell_type": "markdown",
   "metadata": {},
   "source": [
    "# Exercice 3\n",
    "\n",
    "Les premiers caractères de la table ASCII (qui semble vide) correspondent à des caratères dits non imprimables présents sur le clavier comme la tabulation, le retour à la ligne ou la suppression.\n",
    "1. Saisir dans le notebook ou l’interpréteur python : print(’bon\\bjour\\n à \\ttous’).\n",
    "2. Trois caratères échappés sont présents dans la chaine de caractère : \\b, \\n et \\t. Quel est l’effet de ces\n",
    "caractères ?\n",
    "```\n",
    "\\b supprime le caractère précédent,\n",
    "\\n provoque un retour à la ligne,\n",
    "\\t crée une tabulation, c'est à dire l'introduction de plusieurs espaces.\n",
    "```\n",
    "3. Retouver le code ASCII de ces 3 caratères en décimal et hexadécimal.\n",
    "```\n",
    "\\b a pour code 8 soit 08 en hexadécimal,\n",
    "\\t a pour code 9 soit 09 en hexadécimal,\n",
    "\\n a pour code 10 soit 10 en hexadécimal\n",
    "```\n",
    "4. Utiliser ces caractères d’échappement pour afficher avec un seul print et suivant la même présentation :\n",
    "```\n",
    "Numérique\n",
    "            Sciences\n",
    "                    Informatiques\n",
    "```"
   ]
  },
  {
   "cell_type": "code",
   "execution_count": 62,
   "metadata": {},
   "outputs": [
    {
     "name": "stdout",
     "output_type": "stream",
     "text": [
      "bon\bjour\n",
      " à \ttous\n"
     ]
    }
   ],
   "source": [
    "print('bon\\bjour\\n à \\ttous')"
   ]
  },
  {
   "cell_type": "code",
   "execution_count": 63,
   "metadata": {},
   "outputs": [
    {
     "data": {
      "text/plain": [
       "8"
      ]
     },
     "execution_count": 63,
     "metadata": {},
     "output_type": "execute_result"
    }
   ],
   "source": [
    "ord('\\b')"
   ]
  },
  {
   "cell_type": "code",
   "execution_count": 64,
   "metadata": {},
   "outputs": [
    {
     "data": {
      "text/plain": [
       "10"
      ]
     },
     "execution_count": 64,
     "metadata": {},
     "output_type": "execute_result"
    }
   ],
   "source": [
    "ord('\\n')"
   ]
  },
  {
   "cell_type": "code",
   "execution_count": 65,
   "metadata": {},
   "outputs": [
    {
     "data": {
      "text/plain": [
       "9"
      ]
     },
     "execution_count": 65,
     "metadata": {},
     "output_type": "execute_result"
    }
   ],
   "source": [
    "ord('\\t')"
   ]
  },
  {
   "cell_type": "code",
   "execution_count": 66,
   "metadata": {},
   "outputs": [
    {
     "name": "stdout",
     "output_type": "stream",
     "text": [
      "Numérique\n",
      "\tSciences\n",
      "\t\tInformatiques\n"
     ]
    }
   ],
   "source": [
    "print('Numérique\\n\\tSciences\\n\\t\\tInformatiques')"
   ]
  },
  {
   "cell_type": "markdown",
   "metadata": {},
   "source": [
    "# Exercice 4\n",
    "\n",
    "1. Déclarer la variable mot et lui affecter la valeur \"bonjour\".\n",
    "2. Vérifier que la variable mot est de type sting avec la fonction type.\n",
    "3. Il existe des fonctions pour agir sur la valeur de \"mot\". Retrouver les fonctions qui permettent :    \n",
    "\n",
    "\n",
    "* d’écrire mot en lettres majuscules\n",
    "* d’écrire mot avec une capitale\n",
    "* de vérifier que mot est composé de caractères ascii\n",
    "* d’écrire mot en lettres minuscules\n",
    "* de remplacer sa valeur\n",
    "* de compter le nombre de fois qu’un caractère est présent.\n",
    "\n",
    "**Remarque :** On rappelle que la fonction **dir** donne la liste des fonctions applicables à une variable, que la variable suivie d’un point et de la complétion affiche la liste des fonctions applicables et que la fonction help affiche l’aide sur la fonction.\n",
    "4. Appliquer ces différentes fonctions à votre variable mot."
   ]
  },
  {
   "cell_type": "code",
   "execution_count": 67,
   "metadata": {},
   "outputs": [],
   "source": [
    "mot=\"bonjour\""
   ]
  },
  {
   "cell_type": "code",
   "execution_count": 68,
   "metadata": {},
   "outputs": [
    {
     "data": {
      "text/plain": [
       "str"
      ]
     },
     "execution_count": 68,
     "metadata": {},
     "output_type": "execute_result"
    }
   ],
   "source": [
    "type(mot)"
   ]
  },
  {
   "cell_type": "code",
   "execution_count": 69,
   "metadata": {},
   "outputs": [
    {
     "data": {
      "text/plain": [
       "['__add__',\n",
       " '__class__',\n",
       " '__contains__',\n",
       " '__delattr__',\n",
       " '__dir__',\n",
       " '__doc__',\n",
       " '__eq__',\n",
       " '__format__',\n",
       " '__ge__',\n",
       " '__getattribute__',\n",
       " '__getitem__',\n",
       " '__getnewargs__',\n",
       " '__gt__',\n",
       " '__hash__',\n",
       " '__init__',\n",
       " '__init_subclass__',\n",
       " '__iter__',\n",
       " '__le__',\n",
       " '__len__',\n",
       " '__lt__',\n",
       " '__mod__',\n",
       " '__mul__',\n",
       " '__ne__',\n",
       " '__new__',\n",
       " '__reduce__',\n",
       " '__reduce_ex__',\n",
       " '__repr__',\n",
       " '__rmod__',\n",
       " '__rmul__',\n",
       " '__setattr__',\n",
       " '__sizeof__',\n",
       " '__str__',\n",
       " '__subclasshook__',\n",
       " 'capitalize',\n",
       " 'casefold',\n",
       " 'center',\n",
       " 'count',\n",
       " 'encode',\n",
       " 'endswith',\n",
       " 'expandtabs',\n",
       " 'find',\n",
       " 'format',\n",
       " 'format_map',\n",
       " 'index',\n",
       " 'isalnum',\n",
       " 'isalpha',\n",
       " 'isascii',\n",
       " 'isdecimal',\n",
       " 'isdigit',\n",
       " 'isidentifier',\n",
       " 'islower',\n",
       " 'isnumeric',\n",
       " 'isprintable',\n",
       " 'isspace',\n",
       " 'istitle',\n",
       " 'isupper',\n",
       " 'join',\n",
       " 'ljust',\n",
       " 'lower',\n",
       " 'lstrip',\n",
       " 'maketrans',\n",
       " 'partition',\n",
       " 'replace',\n",
       " 'rfind',\n",
       " 'rindex',\n",
       " 'rjust',\n",
       " 'rpartition',\n",
       " 'rsplit',\n",
       " 'rstrip',\n",
       " 'split',\n",
       " 'splitlines',\n",
       " 'startswith',\n",
       " 'strip',\n",
       " 'swapcase',\n",
       " 'title',\n",
       " 'translate',\n",
       " 'upper',\n",
       " 'zfill']"
      ]
     },
     "execution_count": 69,
     "metadata": {},
     "output_type": "execute_result"
    }
   ],
   "source": [
    "dir(mot)"
   ]
  },
  {
   "cell_type": "code",
   "execution_count": 70,
   "metadata": {},
   "outputs": [
    {
     "data": {
      "text/plain": [
       "'BONJOUR'"
      ]
     },
     "execution_count": 70,
     "metadata": {},
     "output_type": "execute_result"
    }
   ],
   "source": [
    "mot.upper()"
   ]
  },
  {
   "cell_type": "code",
   "execution_count": 71,
   "metadata": {},
   "outputs": [
    {
     "data": {
      "text/plain": [
       "'Bonjour'"
      ]
     },
     "execution_count": 71,
     "metadata": {},
     "output_type": "execute_result"
    }
   ],
   "source": [
    "mot.capitalize()"
   ]
  },
  {
   "cell_type": "code",
   "execution_count": 72,
   "metadata": {},
   "outputs": [
    {
     "data": {
      "text/plain": [
       "True"
      ]
     },
     "execution_count": 72,
     "metadata": {},
     "output_type": "execute_result"
    }
   ],
   "source": [
    "mot.isascii()"
   ]
  },
  {
   "cell_type": "code",
   "execution_count": 73,
   "metadata": {},
   "outputs": [
    {
     "data": {
      "text/plain": [
       "'bonjour'"
      ]
     },
     "execution_count": 73,
     "metadata": {},
     "output_type": "execute_result"
    }
   ],
   "source": [
    "mot.lower()"
   ]
  },
  {
   "cell_type": "code",
   "execution_count": 75,
   "metadata": {},
   "outputs": [
    {
     "data": {
      "text/plain": [
       "'au revoir'"
      ]
     },
     "execution_count": 75,
     "metadata": {},
     "output_type": "execute_result"
    }
   ],
   "source": [
    "mot.replace('bonjour','au revoir')"
   ]
  },
  {
   "cell_type": "code",
   "execution_count": 77,
   "metadata": {},
   "outputs": [
    {
     "data": {
      "text/plain": [
       "2"
      ]
     },
     "execution_count": 77,
     "metadata": {},
     "output_type": "execute_result"
    }
   ],
   "source": [
    "mot.count('o')"
   ]
  },
  {
   "cell_type": "markdown",
   "metadata": {},
   "source": [
    "# Exercice 5\n",
    "\n",
    "Le codage binaire en UTF-8 des caratères est donné par le tableau ci-dessous :\n",
    "\n",
    "|Plage             |Suite d’octets (en binaire)          |bits codant  |\n",
    "|:----------------:|:-----------------------------------:|:-----------:|\n",
    "|U+0000 à U+007F   |0xxxxxxx                             |7 bits       |\n",
    "|U+0080 à U+07FF   |110xxxxx 10xxxxxx                    |11 bits      |\n",
    "|U+0800 à U+FFFF   |1110xxxx 10xxxxxx 10xxxxxx           |16 bits      |\n",
    "|U+10000 à U+10FFFF|11110xxx 10xxxxxx 10xxxxxx 10xxxxxx  |21 bits      |\n",
    "\n",
    "\n",
    "1. Saisir dans l’interpréteur python ou le notebook le caractère ’s=\\u00DF’ puis afficher s.\n",
    "2. D’après le tableau, combien de bits sont nécessaires pour coder en binaire le caractère s ?\n",
    "3. Retrouver, en utilisant le tableau, le code binaire puis le code héxadécimal de s.\n",
    "4. La fonction python encode() permet d’obtenir le code hexadécimal d’un caratère unicode. Vérifier votre code hexadécimal en saisissant s.encode()\n",
    "5. Déterminer le codage binaire du caratère \"À\"."
   ]
  },
  {
   "cell_type": "code",
   "execution_count": 78,
   "metadata": {},
   "outputs": [],
   "source": [
    "s='\\u00DF'"
   ]
  },
  {
   "cell_type": "code",
   "execution_count": 79,
   "metadata": {},
   "outputs": [
    {
     "name": "stdout",
     "output_type": "stream",
     "text": [
      "ß\n"
     ]
    }
   ],
   "source": [
    "print(s)"
   ]
  },
  {
   "cell_type": "markdown",
   "metadata": {},
   "source": [
    "2. Le code hexadécimal 00DF se trouve dans la plage U+0080 à U+07FF, donc il faut 11 bits pour coder le caractère s."
   ]
  },
  {
   "cell_type": "markdown",
   "metadata": {},
   "source": [
    "3. Le code binaire est de la forme 110xxxxx 10xxxxxx.    \n",
    "00DF s'écrit en binaire sur 2 octets : 0000 0000 1101 1111    \n",
    "En coupant les 11 derniers bits en paquet de 5 et 6 on a : 00000 00011 011111 et en remplaçant les \"x\" dans le code binaire unicode, on obtient : 11000011 10011111     \n",
    "Au final, le codage binaire de s sur 2 octets est 1100 0011 1001 1111 soit C3 9F en héxadécimal"
   ]
  },
  {
   "cell_type": "code",
   "execution_count": 80,
   "metadata": {},
   "outputs": [
    {
     "data": {
      "text/plain": [
       "b'\\xc3\\x9f'"
      ]
     },
     "execution_count": 80,
     "metadata": {},
     "output_type": "execute_result"
    }
   ],
   "source": [
    "s.encode()"
   ]
  },
  {
   "cell_type": "markdown",
   "metadata": {},
   "source": [
    "5. La lettre \"À\" en point de code unicode est : \\u00C0 qui se trouve dans la plage U+0080 à U+07FF, donc il faut 11 bits pour coder la lettre À.     \n",
    "\\u00C0 se note en binaire sur 2 octets : 00000000 11000000     \n",
    "En remplaçant chaque \"x\" par les 11 derniers bits on obtient le codage binaire : 11000011 10000000 soit C3 80 en hexadécimal."
   ]
  },
  {
   "cell_type": "code",
   "execution_count": 88,
   "metadata": {},
   "outputs": [],
   "source": [
    "a=hex(ord(\"À\"))"
   ]
  },
  {
   "cell_type": "code",
   "execution_count": 89,
   "metadata": {},
   "outputs": [
    {
     "data": {
      "text/plain": [
       "'0xc0'"
      ]
     },
     "execution_count": 89,
     "metadata": {},
     "output_type": "execute_result"
    }
   ],
   "source": [
    "a"
   ]
  },
  {
   "cell_type": "code",
   "execution_count": 90,
   "metadata": {},
   "outputs": [],
   "source": [
    "a='\\u00C0'"
   ]
  },
  {
   "cell_type": "code",
   "execution_count": 91,
   "metadata": {},
   "outputs": [
    {
     "name": "stdout",
     "output_type": "stream",
     "text": [
      "À\n"
     ]
    }
   ],
   "source": [
    "print(a)"
   ]
  },
  {
   "cell_type": "code",
   "execution_count": 92,
   "metadata": {},
   "outputs": [
    {
     "data": {
      "text/plain": [
       "b'\\xc3\\x80'"
      ]
     },
     "execution_count": 92,
     "metadata": {},
     "output_type": "execute_result"
    }
   ],
   "source": [
    "a.encode()"
   ]
  },
  {
   "cell_type": "markdown",
   "metadata": {},
   "source": [
    "# Exercice 6\n",
    "\n",
    "Python est conçu pour réaliser des opérations système. Il est donc possible de lire et écrire dans un fichier texte. Cet exercice nécessite d’enregistrer dans le même dossier que votre fichier python le fichier \"fable.txt\" qui se trouve sur l’ENT.\n",
    "N’hésitez pas à consulter la documentation de python pour apprendre à utiliser correctement les fonctions : Documentation Python : fichier\n",
    "\n",
    "1. Pour travailler sur un fichier, il faut le charger en mémoire afin d’y accéder. Voici la commande : \n",
    "```python\n",
    "with open(’nom de fichier’) as f :\n",
    "```\n",
    "Charger le fichier \"fable.txt\" puis afficher son encodage avec la commande :\n",
    "```python\n",
    "print(f.encoding)\n",
    "```\n",
    "\n",
    "```\n",
    "L'encodage du texte est UTF-8\n",
    "```\n",
    "2. Pour lire le contenu d’un fichier, on utilise la fonction read(). Afficher le contenu du fichier \"fable.txt\". Affecter le contenu du fichier à la variable content.\n",
    "3. Quelle différence y a-t-il entre les instructions content et print(content) ?\n",
    "```\n",
    "La variable content est une chaine de caratères contenant le texte et les caractères échappés de retour à la ligne \\n.\n",
    "Lorsqu'on exécute la commande print(content), les retours à la lignes sont appliqués.\n",
    "```\n",
    "4. On donne le code suivant :\n",
    "```python\n",
    "    with open('fable.txt', encoding='utf-8') as f :\n",
    "        for line in f :\n",
    "            for c in line : \n",
    "                print(c)\n",
    "```\n",
    "Que fait ce code ? Le saisir et vérifier.\n",
    "```\n",
    "Ce code affiche un à un chaque caractère de la chaine de caratères contenue dans la variable content.\n",
    "```\n",
    "5. Modifier le code précédent pour qu’il affiche chaque caractère du texte en code hexadécimal.\n",
    "6. Modifier le code précédent pour supprimer \"0x\" dans chaque caractère hexadécimal.\n",
    "7. Modifier le code pour que les retours à la ligne de la fable soient respectés.\n",
    "8. Pour écrire un contenu dans un fichier, on utilise la fonction write(). La syntaxe est la suivante :\n",
    "Enregistrer le code hexadécimal de la fable dans un fichier nommé \"hexafable.txt\"."
   ]
  },
  {
   "cell_type": "code",
   "execution_count": 94,
   "metadata": {},
   "outputs": [
    {
     "name": "stdout",
     "output_type": "stream",
     "text": [
      "UTF-8\n"
     ]
    }
   ],
   "source": [
    "with open('fable.txt') as f:\n",
    "    print(f.encoding)"
   ]
  },
  {
   "cell_type": "code",
   "execution_count": 95,
   "metadata": {},
   "outputs": [],
   "source": [
    "with open('fable.txt') as f:\n",
    "    f.read()"
   ]
  },
  {
   "cell_type": "code",
   "execution_count": 96,
   "metadata": {},
   "outputs": [
    {
     "name": "stdout",
     "output_type": "stream",
     "text": [
      "LA CIGALE ET LA FOURMI\n",
      "La Cigale, ayant chanté\n",
      "Tout L'Été,\n",
      "Se trouva fort dépourvue\n",
      "Quand la Bise fut venue.\n",
      "Pas un seul petit morceau\n",
      "De mouche ou de vermisseau.\n",
      "Elle alla crier famine\n",
      "Chez la Fourmi sa voisine,\n",
      "La priant de lui prêter\n",
      "Quelque grain pour subsister\n",
      "Jusqu'à la saison nouvelle.\n",
      "« Je vous paierai, lui dit-elle,\n",
      "Avant l'Août, foi d'animal,\n",
      "Intérêt et principal. »\n",
      "La Fourmi n'est pas prêteuse :\n",
      "C'est là son moindre défaut.\n",
      "« Que faisiez-vous au temps chaud ?\n",
      "Dit-elle à cette emprunteuse.\n",
      "- Nuit et jour à tout venant\n",
      "Je chantais, ne vous déplaise.\n",
      "- Vous chantiez ? j'en suis fort aise :\n",
      "Eh bien! dansez maintenant. »\n",
      "\n",
      "Jean De La Fontaine\n",
      "\n"
     ]
    }
   ],
   "source": [
    "with open('fable.txt') as f:\n",
    "    content=f.read()\n",
    "    print(content)"
   ]
  },
  {
   "cell_type": "code",
   "execution_count": 97,
   "metadata": {},
   "outputs": [
    {
     "data": {
      "text/plain": [
       "\"LA CIGALE ET LA FOURMI\\nLa Cigale, ayant chanté\\nTout L'Été,\\nSe trouva fort dépourvue\\nQuand la Bise fut venue.\\nPas un seul petit morceau\\nDe mouche ou de vermisseau.\\nElle alla crier famine\\nChez la Fourmi sa voisine,\\nLa priant de lui prêter\\nQuelque grain pour subsister\\nJusqu'à la saison nouvelle.\\n« Je vous paierai, lui dit-elle,\\nAvant l'Août, foi d'animal,\\nIntérêt et principal. »\\nLa Fourmi n'est pas prêteuse :\\nC'est là son moindre défaut.\\n« Que faisiez-vous au temps chaud ?\\nDit-elle à cette emprunteuse.\\n- Nuit et jour à tout venant\\nJe chantais, ne vous déplaise.\\n- Vous chantiez ? j'en suis fort aise :\\nEh bien! dansez maintenant. »\\n\\nJean De La Fontaine\\n\""
      ]
     },
     "execution_count": 97,
     "metadata": {},
     "output_type": "execute_result"
    }
   ],
   "source": [
    "content"
   ]
  },
  {
   "cell_type": "code",
   "execution_count": 100,
   "metadata": {},
   "outputs": [
    {
     "name": "stdout",
     "output_type": "stream",
     "text": [
      "L\n",
      "A\n",
      " \n",
      "C\n",
      "I\n",
      "G\n",
      "A\n",
      "L\n",
      "E\n",
      " \n",
      "E\n",
      "T\n",
      " \n",
      "L\n",
      "A\n",
      " \n",
      "F\n",
      "O\n",
      "U\n",
      "R\n",
      "M\n",
      "I\n",
      "\n",
      "\n",
      "L\n",
      "a\n",
      " \n",
      "C\n",
      "i\n",
      "g\n",
      "a\n",
      "l\n",
      "e\n",
      ",\n",
      " \n",
      "a\n",
      "y\n",
      "a\n",
      "n\n",
      "t\n",
      " \n",
      "c\n",
      "h\n",
      "a\n",
      "n\n",
      "t\n",
      "é\n",
      "\n",
      "\n",
      "T\n",
      "o\n",
      "u\n",
      "t\n",
      " \n",
      "L\n",
      "'\n",
      "É\n",
      "t\n",
      "é\n",
      ",\n",
      "\n",
      "\n",
      "S\n",
      "e\n",
      " \n",
      "t\n",
      "r\n",
      "o\n",
      "u\n",
      "v\n",
      "a\n",
      " \n",
      "f\n",
      "o\n",
      "r\n",
      "t\n",
      " \n",
      "d\n",
      "é\n",
      "p\n",
      "o\n",
      "u\n",
      "r\n",
      "v\n",
      "u\n",
      "e\n",
      "\n",
      "\n",
      "Q\n",
      "u\n",
      "a\n",
      "n\n",
      "d\n",
      " \n",
      "l\n",
      "a\n",
      " \n",
      "B\n",
      "i\n",
      "s\n",
      "e\n",
      " \n",
      "f\n",
      "u\n",
      "t\n",
      " \n",
      "v\n",
      "e\n",
      "n\n",
      "u\n",
      "e\n",
      ".\n",
      "\n",
      "\n",
      "P\n",
      "a\n",
      "s\n",
      " \n",
      "u\n",
      "n\n",
      " \n",
      "s\n",
      "e\n",
      "u\n",
      "l\n",
      " \n",
      "p\n",
      "e\n",
      "t\n",
      "i\n",
      "t\n",
      " \n",
      "m\n",
      "o\n",
      "r\n",
      "c\n",
      "e\n",
      "a\n",
      "u\n",
      "\n",
      "\n",
      "D\n",
      "e\n",
      " \n",
      "m\n",
      "o\n",
      "u\n",
      "c\n",
      "h\n",
      "e\n",
      " \n",
      "o\n",
      "u\n",
      " \n",
      "d\n",
      "e\n",
      " \n",
      "v\n",
      "e\n",
      "r\n",
      "m\n",
      "i\n",
      "s\n",
      "s\n",
      "e\n",
      "a\n",
      "u\n",
      ".\n",
      "\n",
      "\n",
      "E\n",
      "l\n",
      "l\n",
      "e\n",
      " \n",
      "a\n",
      "l\n",
      "l\n",
      "a\n",
      " \n",
      "c\n",
      "r\n",
      "i\n",
      "e\n",
      "r\n",
      " \n",
      "f\n",
      "a\n",
      "m\n",
      "i\n",
      "n\n",
      "e\n",
      "\n",
      "\n",
      "C\n",
      "h\n",
      "e\n",
      "z\n",
      " \n",
      "l\n",
      "a\n",
      " \n",
      "F\n",
      "o\n",
      "u\n",
      "r\n",
      "m\n",
      "i\n",
      " \n",
      "s\n",
      "a\n",
      " \n",
      "v\n",
      "o\n",
      "i\n",
      "s\n",
      "i\n",
      "n\n",
      "e\n",
      ",\n",
      "\n",
      "\n",
      "L\n",
      "a\n",
      " \n",
      "p\n",
      "r\n",
      "i\n",
      "a\n",
      "n\n",
      "t\n",
      " \n",
      "d\n",
      "e\n",
      " \n",
      "l\n",
      "u\n",
      "i\n",
      " \n",
      "p\n",
      "r\n",
      "ê\n",
      "t\n",
      "e\n",
      "r\n",
      "\n",
      "\n",
      "Q\n",
      "u\n",
      "e\n",
      "l\n",
      "q\n",
      "u\n",
      "e\n",
      " \n",
      "g\n",
      "r\n",
      "a\n",
      "i\n",
      "n\n",
      " \n",
      "p\n",
      "o\n",
      "u\n",
      "r\n",
      " \n",
      "s\n",
      "u\n",
      "b\n",
      "s\n",
      "i\n",
      "s\n",
      "t\n",
      "e\n",
      "r\n",
      "\n",
      "\n",
      "J\n",
      "u\n",
      "s\n",
      "q\n",
      "u\n",
      "'\n",
      "à\n",
      " \n",
      "l\n",
      "a\n",
      " \n",
      "s\n",
      "a\n",
      "i\n",
      "s\n",
      "o\n",
      "n\n",
      " \n",
      "n\n",
      "o\n",
      "u\n",
      "v\n",
      "e\n",
      "l\n",
      "l\n",
      "e\n",
      ".\n",
      "\n",
      "\n",
      "«\n",
      " \n",
      "J\n",
      "e\n",
      " \n",
      "v\n",
      "o\n",
      "u\n",
      "s\n",
      " \n",
      "p\n",
      "a\n",
      "i\n",
      "e\n",
      "r\n",
      "a\n",
      "i\n",
      ",\n",
      " \n",
      "l\n",
      "u\n",
      "i\n",
      " \n",
      "d\n",
      "i\n",
      "t\n",
      "-\n",
      "e\n",
      "l\n",
      "l\n",
      "e\n",
      ",\n",
      "\n",
      "\n",
      "A\n",
      "v\n",
      "a\n",
      "n\n",
      "t\n",
      " \n",
      "l\n",
      "'\n",
      "A\n",
      "o\n",
      "û\n",
      "t\n",
      ",\n",
      " \n",
      "f\n",
      "o\n",
      "i\n",
      " \n",
      "d\n",
      "'\n",
      "a\n",
      "n\n",
      "i\n",
      "m\n",
      "a\n",
      "l\n",
      ",\n",
      "\n",
      "\n",
      "I\n",
      "n\n",
      "t\n",
      "é\n",
      "r\n",
      "ê\n",
      "t\n",
      " \n",
      "e\n",
      "t\n",
      " \n",
      "p\n",
      "r\n",
      "i\n",
      "n\n",
      "c\n",
      "i\n",
      "p\n",
      "a\n",
      "l\n",
      ".\n",
      " \n",
      "»\n",
      "\n",
      "\n",
      "L\n",
      "a\n",
      " \n",
      "F\n",
      "o\n",
      "u\n",
      "r\n",
      "m\n",
      "i\n",
      " \n",
      "n\n",
      "'\n",
      "e\n",
      "s\n",
      "t\n",
      " \n",
      "p\n",
      "a\n",
      "s\n",
      " \n",
      "p\n",
      "r\n",
      "ê\n",
      "t\n",
      "e\n",
      "u\n",
      "s\n",
      "e\n",
      " \n",
      ":\n",
      "\n",
      "\n",
      "C\n",
      "'\n",
      "e\n",
      "s\n",
      "t\n",
      " \n",
      "l\n",
      "à\n",
      " \n",
      "s\n",
      "o\n",
      "n\n",
      " \n",
      "m\n",
      "o\n",
      "i\n",
      "n\n",
      "d\n",
      "r\n",
      "e\n",
      " \n",
      "d\n",
      "é\n",
      "f\n",
      "a\n",
      "u\n",
      "t\n",
      ".\n",
      "\n",
      "\n",
      "«\n",
      " \n",
      "Q\n",
      "u\n",
      "e\n",
      " \n",
      "f\n",
      "a\n",
      "i\n",
      "s\n",
      "i\n",
      "e\n",
      "z\n",
      "-\n",
      "v\n",
      "o\n",
      "u\n",
      "s\n",
      " \n",
      "a\n",
      "u\n",
      " \n",
      "t\n",
      "e\n",
      "m\n",
      "p\n",
      "s\n",
      " \n",
      "c\n",
      "h\n",
      "a\n",
      "u\n",
      "d\n",
      " \n",
      "?\n",
      "\n",
      "\n",
      "D\n",
      "i\n",
      "t\n",
      "-\n",
      "e\n",
      "l\n",
      "l\n",
      "e\n",
      " \n",
      "à\n",
      " \n",
      "c\n",
      "e\n",
      "t\n",
      "t\n",
      "e\n",
      " \n",
      "e\n",
      "m\n",
      "p\n",
      "r\n",
      "u\n",
      "n\n",
      "t\n",
      "e\n",
      "u\n",
      "s\n",
      "e\n",
      ".\n",
      "\n",
      "\n",
      "-\n",
      " \n",
      "N\n",
      "u\n",
      "i\n",
      "t\n",
      " \n",
      "e\n",
      "t\n",
      " \n",
      "j\n",
      "o\n",
      "u\n",
      "r\n",
      " \n",
      "à\n",
      " \n",
      "t\n",
      "o\n",
      "u\n",
      "t\n",
      " \n",
      "v\n",
      "e\n",
      "n\n",
      "a\n",
      "n\n",
      "t\n",
      "\n",
      "\n",
      "J\n",
      "e\n",
      " \n",
      "c\n",
      "h\n",
      "a\n",
      "n\n",
      "t\n",
      "a\n",
      "i\n",
      "s\n",
      ",\n",
      " \n",
      "n\n",
      "e\n",
      " \n",
      "v\n",
      "o\n",
      "u\n",
      "s\n",
      " \n",
      "d\n",
      "é\n",
      "p\n",
      "l\n",
      "a\n",
      "i\n",
      "s\n",
      "e\n",
      ".\n",
      "\n",
      "\n",
      "-\n",
      " \n",
      "V\n",
      "o\n",
      "u\n",
      "s\n",
      " \n",
      "c\n",
      "h\n",
      "a\n",
      "n\n",
      "t\n",
      "i\n",
      "e\n",
      "z\n",
      " \n",
      "?\n",
      " \n",
      "j\n",
      "'\n",
      "e\n",
      "n\n",
      " \n",
      "s\n",
      "u\n",
      "i\n",
      "s\n",
      " \n",
      "f\n",
      "o\n",
      "r\n",
      "t\n",
      " \n",
      "a\n",
      "i\n",
      "s\n",
      "e\n",
      " \n",
      ":\n",
      "\n",
      "\n",
      "E\n",
      "h\n",
      " \n",
      "b\n",
      "i\n",
      "e\n",
      "n\n",
      "!\n",
      " \n",
      "d\n",
      "a\n",
      "n\n",
      "s\n",
      "e\n",
      "z\n",
      " \n",
      "m\n",
      "a\n",
      "i\n",
      "n\n",
      "t\n",
      "e\n",
      "n\n",
      "a\n",
      "n\n",
      "t\n",
      ".\n",
      " \n",
      "»\n",
      "\n",
      "\n",
      "\n",
      "\n",
      "J\n",
      "e\n",
      "a\n",
      "n\n",
      " \n",
      "D\n",
      "e\n",
      " \n",
      "L\n",
      "a\n",
      " \n",
      "F\n",
      "o\n",
      "n\n",
      "t\n",
      "a\n",
      "i\n",
      "n\n",
      "e\n",
      "\n",
      "\n"
     ]
    }
   ],
   "source": [
    "with open('fable.txt', encoding='utf-8') as f :\n",
    "    for line in f :\n",
    "        for c in line : \n",
    "            print(c)"
   ]
  },
  {
   "cell_type": "code",
   "execution_count": 113,
   "metadata": {},
   "outputs": [
    {
     "name": "stdout",
     "output_type": "stream",
     "text": [
      "4C 41 20 43 49 47 41 4C 45 20 45 54 20 4C 41 20 46 4F 55 52 4D 49 A\n",
      "4C 61 20 43 69 67 61 6C 65 2C 20 61 79 61 6E 74 20 63 68 61 6E 74 E9 A\n",
      "54 6F 75 74 20 4C 27 C9 74 E9 2C A\n",
      "53 65 20 74 72 6F 75 76 61 20 66 6F 72 74 20 64 E9 70 6F 75 72 76 75 65 A\n",
      "51 75 61 6E 64 20 6C 61 20 42 69 73 65 20 66 75 74 20 76 65 6E 75 65 2E A\n",
      "50 61 73 20 75 6E 20 73 65 75 6C 20 70 65 74 69 74 20 6D 6F 72 63 65 61 75 A\n",
      "44 65 20 6D 6F 75 63 68 65 20 6F 75 20 64 65 20 76 65 72 6D 69 73 73 65 61 75 2E A\n",
      "45 6C 6C 65 20 61 6C 6C 61 20 63 72 69 65 72 20 66 61 6D 69 6E 65 A\n",
      "43 68 65 7A 20 6C 61 20 46 6F 75 72 6D 69 20 73 61 20 76 6F 69 73 69 6E 65 2C A\n",
      "4C 61 20 70 72 69 61 6E 74 20 64 65 20 6C 75 69 20 70 72 EA 74 65 72 A\n",
      "51 75 65 6C 71 75 65 20 67 72 61 69 6E 20 70 6F 75 72 20 73 75 62 73 69 73 74 65 72 A\n",
      "4A 75 73 71 75 27 E0 20 6C 61 20 73 61 69 73 6F 6E 20 6E 6F 75 76 65 6C 6C 65 2E A\n",
      "AB 20 4A 65 20 76 6F 75 73 20 70 61 69 65 72 61 69 2C 20 6C 75 69 20 64 69 74 2D 65 6C 6C 65 2C A\n",
      "41 76 61 6E 74 20 6C 27 41 6F FB 74 2C 20 66 6F 69 20 64 27 61 6E 69 6D 61 6C 2C A\n",
      "49 6E 74 E9 72 EA 74 20 65 74 20 70 72 69 6E 63 69 70 61 6C 2E 20 BB A\n",
      "4C 61 20 46 6F 75 72 6D 69 20 6E 27 65 73 74 20 70 61 73 20 70 72 EA 74 65 75 73 65 20 3A A\n",
      "43 27 65 73 74 20 6C E0 20 73 6F 6E 20 6D 6F 69 6E 64 72 65 20 64 E9 66 61 75 74 2E A\n",
      "AB 20 51 75 65 20 66 61 69 73 69 65 7A 2D 76 6F 75 73 20 61 75 20 74 65 6D 70 73 20 63 68 61 75 64 20 3F A\n",
      "44 69 74 2D 65 6C 6C 65 20 E0 20 63 65 74 74 65 20 65 6D 70 72 75 6E 74 65 75 73 65 2E A\n",
      "2D 20 4E 75 69 74 20 65 74 20 6A 6F 75 72 20 E0 20 74 6F 75 74 20 76 65 6E 61 6E 74 A\n",
      "4A 65 20 63 68 61 6E 74 61 69 73 2C 20 6E 65 20 76 6F 75 73 20 64 E9 70 6C 61 69 73 65 2E A\n",
      "2D 20 56 6F 75 73 20 63 68 61 6E 74 69 65 7A 20 3F 20 6A 27 65 6E 20 73 75 69 73 20 66 6F 72 74 20 61 69 73 65 20 3A A\n",
      "45 68 20 62 69 65 6E 21 20 64 61 6E 73 65 7A 20 6D 61 69 6E 74 65 6E 61 6E 74 2E 20 BB A\n",
      "A\n",
      "4A 65 61 6E 20 44 65 20 4C 61 20 46 6F 6E 74 61 69 6E 65 A\n"
     ]
    }
   ],
   "source": [
    "with open('fable.txt', encoding='utf-8') as f :\n",
    "    for line in f :\n",
    "        for c in line : \n",
    "            s=hex(ord(c))\n",
    "            s=s.replace(\"0x\",\"\")\n",
    "            if s==\"a\":\n",
    "                print(s.upper())\n",
    "            else:\n",
    "                print(s.upper(),end=\" \")"
   ]
  },
  {
   "cell_type": "code",
   "execution_count": 122,
   "metadata": {},
   "outputs": [
    {
     "name": "stdout",
     "output_type": "stream",
     "text": [
      " 4c 41 20 43 49 47 41 4c 45 20 45 54 20 4c 41 20 46 4f 55 52 4d 49 a 4c 61 20 43 69 67 61 6c 65 2c 20 61 79 61 6e 74 20 63 68 61 6e 74 e9 a 54 6f 75 74 20 4c 27 c9 74 e9 2c a 53 65 20 74 72 6f 75 76 61 20 66 6f 72 74 20 64 e9 70 6f 75 72 76 75 65 a 51 75 61 6e 64 20 6c 61 20 42 69 73 65 20 66 75 74 20 76 65 6e 75 65 2e a 50 61 73 20 75 6e 20 73 65 75 6c 20 70 65 74 69 74 20 6d 6f 72 63 65 61 75 a 44 65 20 6d 6f 75 63 68 65 20 6f 75 20 64 65 20 76 65 72 6d 69 73 73 65 61 75 2e a 45 6c 6c 65 20 61 6c 6c 61 20 63 72 69 65 72 20 66 61 6d 69 6e 65 a 43 68 65 7a 20 6c 61 20 46 6f 75 72 6d 69 20 73 61 20 76 6f 69 73 69 6e 65 2c a 4c 61 20 70 72 69 61 6e 74 20 64 65 20 6c 75 69 20 70 72 ea 74 65 72 a 51 75 65 6c 71 75 65 20 67 72 61 69 6e 20 70 6f 75 72 20 73 75 62 73 69 73 74 65 72 a 4a 75 73 71 75 27 e0 20 6c 61 20 73 61 69 73 6f 6e 20 6e 6f 75 76 65 6c 6c 65 2e a ab 20 4a 65 20 76 6f 75 73 20 70 61 69 65 72 61 69 2c 20 6c 75 69 20 64 69 74 2d 65 6c 6c 65 2c a 41 76 61 6e 74 20 6c 27 41 6f fb 74 2c 20 66 6f 69 20 64 27 61 6e 69 6d 61 6c 2c a 49 6e 74 e9 72 ea 74 20 65 74 20 70 72 69 6e 63 69 70 61 6c 2e 20 bb a 4c 61 20 46 6f 75 72 6d 69 20 6e 27 65 73 74 20 70 61 73 20 70 72 ea 74 65 75 73 65 20 3a a 43 27 65 73 74 20 6c e0 20 73 6f 6e 20 6d 6f 69 6e 64 72 65 20 64 e9 66 61 75 74 2e a ab 20 51 75 65 20 66 61 69 73 69 65 7a 2d 76 6f 75 73 20 61 75 20 74 65 6d 70 73 20 63 68 61 75 64 20 3f a 44 69 74 2d 65 6c 6c 65 20 e0 20 63 65 74 74 65 20 65 6d 70 72 75 6e 74 65 75 73 65 2e a 2d 20 4e 75 69 74 20 65 74 20 6a 6f 75 72 20 e0 20 74 6f 75 74 20 76 65 6e 61 6e 74 a 4a 65 20 63 68 61 6e 74 61 69 73 2c 20 6e 65 20 76 6f 75 73 20 64 e9 70 6c 61 69 73 65 2e a 2d 20 56 6f 75 73 20 63 68 61 6e 74 69 65 7a 20 3f 20 6a 27 65 6e 20 73 75 69 73 20 66 6f 72 74 20 61 69 73 65 20 3a a 45 68 20 62 69 65 6e 21 20 64 61 6e 73 65 7a 20 6d 61 69 6e 74 65 6e 61 6e 74 2e 20 bb a a 4a 65 61 6e 20 44 65 20 4c 61 20 46 6f 6e 74 61 69 6e 65 a\n"
     ]
    }
   ],
   "source": [
    "with open('fable.txt', encoding='utf-8') as f :\n",
    "    content=\"\"\n",
    "    for line in f :\n",
    "        for c in line : \n",
    "            s=hex(ord(c))\n",
    "            s=s.replace(\"0x\",\" \")\n",
    "            content=content+s\n",
    "with open('hexafable.txt','w') as g:\n",
    "    g.write(content)\n",
    "    \n",
    "with open('hexafable.txt','r') as g:\n",
    "    texte=g.read()\n",
    "    print(texte)"
   ]
  },
  {
   "cell_type": "code",
   "execution_count": null,
   "metadata": {},
   "outputs": [],
   "source": []
  }
 ],
 "metadata": {
  "kernelspec": {
   "display_name": "Python 3",
   "language": "python",
   "name": "python3"
  },
  "language_info": {
   "codemirror_mode": {
    "name": "ipython",
    "version": 3
   },
   "file_extension": ".py",
   "mimetype": "text/x-python",
   "name": "python",
   "nbconvert_exporter": "python",
   "pygments_lexer": "ipython3",
   "version": "3.7.4"
  },
  "latex_envs": {
   "bibliofile": "biblio.bib",
   "cite_by": "apalike",
   "current_citInitial": 1,
   "eqLabelWithNumbers": true,
   "eqNumInitial": 0
  }
 },
 "nbformat": 4,
 "nbformat_minor": 2
}
