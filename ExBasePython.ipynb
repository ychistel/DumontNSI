{
 "cells": [
  {
   "cell_type": "markdown",
   "metadata": {},
   "source": [
    "# Exercice 1\n",
    "1. Déclarer dans l'interpréteur, 2 variables $a$ et $b$ en leur affectant respectivement les valeurs $15$ et $7$.\n",
    "2. Calculer $a//b$ puis $b//a$. Que signifient les valeurs affichées?\n",
    "3. Calculer $a\\%b$ et $b\\%a$. Que signifient les valeurs affichées?\n",
    "4. Calculer $a/2+b/3$. Quel est le type numérique obtenu ?\n",
    "5. Calculer $a^4-b^3$."
   ]
  },
  {
   "cell_type": "code",
   "execution_count": 2,
   "metadata": {},
   "outputs": [],
   "source": [
    "a=15\n",
    "b=7"
   ]
  },
  {
   "cell_type": "code",
   "execution_count": 3,
   "metadata": {},
   "outputs": [
    {
     "name": "stdout",
     "output_type": "stream",
     "text": [
      "2\n",
      "0\n",
      "La première valeur est le quotient entier de la division 15 par 7\n",
      "La seconde valeur est le quotient entier de la division 7 par 15\n"
     ]
    }
   ],
   "source": [
    "print(a//b)\n",
    "print(b//a)\n",
    "print(\"La première valeur est le quotient entier de la division %s par %s\" % (a,b))\n",
    "print(\"La seconde valeur est le quotient entier de la division %s par %s\" % (b,a))"
   ]
  },
  {
   "cell_type": "code",
   "execution_count": 4,
   "metadata": {},
   "outputs": [
    {
     "name": "stdout",
     "output_type": "stream",
     "text": [
      "1\n",
      "7\n",
      "La première valeur est le reste entier de la division 15 par 7\n",
      "La première valeur est le reste entier de la division 7 par 15\n"
     ]
    }
   ],
   "source": [
    "print(a%b)\n",
    "print(b%a)\n",
    "print(\"La première valeur est le reste entier de la division %s par %s\" % (a,b))\n",
    "print(\"La première valeur est le reste entier de la division %s par %s\" % (b,a))"
   ]
  },
  {
   "cell_type": "code",
   "execution_count": 5,
   "metadata": {},
   "outputs": [
    {
     "name": "stdout",
     "output_type": "stream",
     "text": [
      "9.833333333333334\n",
      "<class 'float'>\n",
      "Le résultat est un flottant\n"
     ]
    }
   ],
   "source": [
    "print(a/2+b/3)\n",
    "print(type(a/2+b/3))\n",
    "print(\"Le résultat est un flottant\")"
   ]
  },
  {
   "cell_type": "code",
   "execution_count": 8,
   "metadata": {},
   "outputs": [
    {
     "data": {
      "text/plain": [
       "50282"
      ]
     },
     "execution_count": 8,
     "metadata": {},
     "output_type": "execute_result"
    }
   ],
   "source": [
    "#a**4-b**3\n",
    "pow(a,4)-pow(b,3)"
   ]
  },
  {
   "cell_type": "markdown",
   "metadata": {},
   "source": [
    "# Exercice 2\n",
    "1. Quelle est la valeur de la variable $a$ si saisit les lignes suivantes dans l'interpréteur :\n",
    "\n",
    "```python\n",
    "    >>> a=3\n",
    "    >>> a=4    \n",
    "    >>> a=a+2    \n",
    "    >>> a     \n",
    "```\n",
    "Vérifier votre réponse en saisissant ces lignes dans l'interpréteur.\n",
    "\n",
    "2. Refaire de même avec :\n",
    "\n",
    "```python\n",
    "    >>> a=2\n",
    "    >>> b=a*a\n",
    "    >>> b=a*b\n",
    "    >>> b=b*b\n",
    "    >>> b\n",
    "```\n",
    "Vérifier votre réponse en saisissant ces lignes dans l'interpréteur.\n"
   ]
  },
  {
   "cell_type": "code",
   "execution_count": 9,
   "metadata": {},
   "outputs": [
    {
     "data": {
      "text/plain": [
       "6"
      ]
     },
     "execution_count": 9,
     "metadata": {},
     "output_type": "execute_result"
    }
   ],
   "source": [
    "a=3\n",
    "a=4\n",
    "a=a+2\n",
    "a"
   ]
  },
  {
   "cell_type": "code",
   "execution_count": 10,
   "metadata": {},
   "outputs": [
    {
     "data": {
      "text/plain": [
       "64"
      ]
     },
     "execution_count": 10,
     "metadata": {},
     "output_type": "execute_result"
    }
   ],
   "source": [
    "a=2\n",
    "b=a*a\n",
    "b=a*b\n",
    "b=b*b\n",
    "b"
   ]
  },
  {
   "cell_type": "markdown",
   "metadata": {},
   "source": [
    "# Exercice 3\n",
    "Dans l'éditeur python, écrire un programme qui :\n",
    "1. demande la saise d'une valeur pour la variable $a$.\n",
    "2. demande la saise d'une valeur pour la variable $b$.\n",
    "3. calcule et affiche la somme des nombres $a$ et $b$\n",
    "4. Que remarquez-vous ? Corriger si nécessaire."
   ]
  },
  {
   "cell_type": "code",
   "execution_count": 11,
   "metadata": {},
   "outputs": [
    {
     "name": "stdout",
     "output_type": "stream",
     "text": [
      "a=3\n",
      "b=4\n"
     ]
    },
    {
     "data": {
      "text/plain": [
       "'34'"
      ]
     },
     "execution_count": 11,
     "metadata": {},
     "output_type": "execute_result"
    }
   ],
   "source": [
    "a=input(\"a=\")\n",
    "b=input(\"b=\")\n",
    "a+b"
   ]
  },
  {
   "cell_type": "markdown",
   "metadata": {},
   "source": [
    "### Remarque:\n",
    "Pour que la saisie soit comprise comme un nombre entier, il est **fortement** conseillé d'utiliser la fonction **int** qui convertit la saise en nombre entier.    \n",
    "L'erreur qui va se produire est la concaténation des nombres saisis considérés comme des chaines de caractères!"
   ]
  },
  {
   "cell_type": "code",
   "execution_count": 12,
   "metadata": {},
   "outputs": [
    {
     "name": "stdout",
     "output_type": "stream",
     "text": [
      "a=3\n",
      "b=4\n"
     ]
    },
    {
     "data": {
      "text/plain": [
       "7"
      ]
     },
     "execution_count": 12,
     "metadata": {},
     "output_type": "execute_result"
    }
   ],
   "source": [
    "a=int(input(\"a=\"))\n",
    "b=int(input(\"b=\"))\n",
    "a+b"
   ]
  },
  {
   "cell_type": "markdown",
   "metadata": {},
   "source": [
    "# Exercice 4\n",
    "Soit $a$ et $b$ deux variables numériques déclarées.\n",
    "\n",
    "1. Écrire un programme qui échange la valeur des variables $a$ et $b$ et les affiche ($b$ prend la valeur de $a$ et $a$ prend la valeur de $b$).\n",
    "2. Est-il possible d'échanger les valeurs en utilisant uniquement les variables $a$ et $b$ ?\n",
    "3. Modifier le programme pour calculer la somme et la différence des variables $a$ et $b$ puis afficher les résultats obtenus :     \n",
    "a) En utilisant autant de variables que vous voulez.     \n",
    "b) En utilisant seulement les 2 variables $a$ et $b$.     \n",
    "c) En mémorisant la somme dans la variable $a$ et la différence dans la variable $b$."
   ]
  },
  {
   "cell_type": "code",
   "execution_count": 13,
   "metadata": {},
   "outputs": [
    {
     "name": "stdout",
     "output_type": "stream",
     "text": [
      "a=4\n",
      "b=7\n",
      "4 7\n",
      "7 4\n"
     ]
    }
   ],
   "source": [
    "# Première solution avec 3 variables dont une tampon\n",
    "a=int(input(\"a=\"))\n",
    "b=int(input(\"b=\"))\n",
    "print(a,b)\n",
    "c=a\n",
    "a=b\n",
    "b=c\n",
    "print(a,b)"
   ]
  },
  {
   "cell_type": "code",
   "execution_count": 14,
   "metadata": {},
   "outputs": [
    {
     "name": "stdout",
     "output_type": "stream",
     "text": [
      "a=2\n",
      "b=9\n",
      "2 9\n",
      "9 2\n"
     ]
    }
   ],
   "source": [
    "# Seconde solution avec les variables a et b (particularité de python!)\n",
    "a=int(input(\"a=\"))\n",
    "b=int(input(\"b=\"))\n",
    "print(a,b)\n",
    "a,b=b,a\n",
    "print(a,b)"
   ]
  },
  {
   "cell_type": "code",
   "execution_count": 18,
   "metadata": {},
   "outputs": [
    {
     "name": "stdout",
     "output_type": "stream",
     "text": [
      "a=2\n",
      "b=5\n",
      "La différence de  2 et 5 est égale à 7\n"
     ]
    }
   ],
   "source": [
    "# Calcul et affichage de la somme et différence avec 4 variables a, b, c et d.\n",
    "a=int(input(\"a=\"))\n",
    "b=int(input(\"b=\"))\n",
    "c=a+b\n",
    "d=a-b\n",
    "#print(\"La différence de \",a,\"et\",b,\"est égale à\",d )\n",
    "print(\"La différence de %s et %s est égale à %s et la somme vaut %s\" % (a,b,d,c))"
   ]
  },
  {
   "cell_type": "code",
   "execution_count": 19,
   "metadata": {},
   "outputs": [
    {
     "name": "stdout",
     "output_type": "stream",
     "text": [
      "a=3\n",
      "b=5\n",
      "La différence de 3 et 5 est égale à -2 et la somme vaut 8\n"
     ]
    }
   ],
   "source": [
    "# Calcul et affichage de la somme et différence avec 2 variables a et b.\n",
    "a=int(input(\"a=\"))\n",
    "b=int(input(\"b=\"))\n",
    "print(\"La différence de %s et %s est égale à %s et la somme vaut %s\" % (a,b,a-b,a+b))"
   ]
  },
  {
   "cell_type": "code",
   "execution_count": 20,
   "metadata": {},
   "outputs": [
    {
     "name": "stdout",
     "output_type": "stream",
     "text": [
      "a=3\n",
      "b=5\n",
      "La différence de 3.0 et 5.0 est égale à -2 et la somme vaut 8\n"
     ]
    }
   ],
   "source": [
    "# Calcul et affichage de la somme dans a et la différence dans b.\n",
    "a=int(input(\"a=\"))\n",
    "b=int(input(\"b=\"))\n",
    "a,b=a-b,a+b\n",
    "print(\"La différence de %s et %s est égale à %s et la somme vaut %s\" % ((a+b)/2,(b-a)/2,a,b))"
   ]
  },
  {
   "cell_type": "markdown",
   "metadata": {},
   "source": [
    "# Exercice 5\n",
    "1. Dans l'interpréteur, saisir :     \n",
    "a) int('0110',2)     \n",
    "b) int('FF',16)     \n",
    "c) int('10011001', 2)\n",
    "2. Que semble réaliser la fonction python \\textbf{int(\\textit{chaine}, \\textit{base})} ?\n",
    "3. Écrire un programme qui demande la saise d'une base (entre 2 et 36) et un nombre dans cette base et affiche ce nombre en base 10."
   ]
  },
  {
   "cell_type": "code",
   "execution_count": 21,
   "metadata": {},
   "outputs": [
    {
     "data": {
      "text/plain": [
       "6"
      ]
     },
     "execution_count": 21,
     "metadata": {},
     "output_type": "execute_result"
    }
   ],
   "source": [
    "int('0110',2)"
   ]
  },
  {
   "cell_type": "code",
   "execution_count": 22,
   "metadata": {},
   "outputs": [
    {
     "data": {
      "text/plain": [
       "255"
      ]
     },
     "execution_count": 22,
     "metadata": {},
     "output_type": "execute_result"
    }
   ],
   "source": [
    "int('FF',16)"
   ]
  },
  {
   "cell_type": "code",
   "execution_count": 23,
   "metadata": {},
   "outputs": [
    {
     "data": {
      "text/plain": [
       "153"
      ]
     },
     "execution_count": 23,
     "metadata": {},
     "output_type": "execute_result"
    }
   ],
   "source": [
    "int('10011001',2)"
   ]
  },
  {
   "cell_type": "markdown",
   "metadata": {},
   "source": [
    "La fonction **int(chaine,base)** convertit la valeur de la chaine donnée dans la base en valeur décimale."
   ]
  },
  {
   "cell_type": "code",
   "execution_count": 25,
   "metadata": {},
   "outputs": [
    {
     "name": "stdout",
     "output_type": "stream",
     "text": [
      "Saisir une base comprise entre 2 et 36:16\n",
      "Saisir le nombre dans la base 16 : aa\n",
      "Le nombre en valeur décimale est : 170\n"
     ]
    }
   ],
   "source": [
    "base=int(input(\"Saisir une base comprise entre 2 et 36:\"))\n",
    "chaine=input(\"Saisir le nombre dans la base %s : \" % base)\n",
    "print(\"Le nombre en valeur décimale est :\",int(chaine,base))"
   ]
  },
  {
   "cell_type": "markdown",
   "metadata": {},
   "source": [
    "# Exercice 6\n",
    "On va écrire un programme pour résoudre les équations du type $ax+b=0$. Dans l'éditeur python :\n",
    "\n",
    "1. Demander la saisie des coefficients (flottants) $a$ et $b$.\n",
    "2. Afficher, avec la commande **print**, un message donnant la solution qui ressemble à :     \n",
    "\"L'équation ax+b=0 admet pour solution x=... \" en remplaçant $a$ et $b$ par les valeurs saisies."
   ]
  },
  {
   "cell_type": "code",
   "execution_count": null,
   "metadata": {},
   "outputs": [],
   "source": [
    "a=float(input(\"a=\"))\n",
    "b=float(input(\"b=\"))\n",
    "print(\"L'équation %sx+%s=0 admet pour solution x=%s\" % (a,b,-b/a))"
   ]
  },
  {
   "cell_type": "markdown",
   "metadata": {},
   "source": [
    "# Exercice 7\n",
    "1. Dans l'interpréteur, saisir une variable $a$ et lui affecter une valeur entière de votre choix.\n",
    "2. Dire si les tests suivants sont vrais ou faux \\textbf{puis } vérifier dans l'interpréteur :     \n",
    "a) $a>0$     \n",
    "b) $a>0$ and $a<100$     \n",
    "c) $a>0$ or $a<100$     \n",
    "d) $a\\%2==0$\n",
    "2. Que peut-on dire du troisème test ? Modifier ce test pour qu'il puisse renvoyer faux.\n",
    "3. Que permet de vérifier le dernier test ?"
   ]
  },
  {
   "cell_type": "markdown",
   "metadata": {},
   "source": [
    "**Réponse mentale, sans machine.**     \n",
    "Si je prends $a=5$, alors :      \n",
    "a) $a>0$ est vrai      \n",
    "b) $a>0$ and $a<100$ est vrai      \n",
    "c) $a>0$ or $a<100$ est vrai     \n",
    "d) $a\\%2 == 0$ est faux"
   ]
  },
  {
   "cell_type": "code",
   "execution_count": null,
   "metadata": {},
   "outputs": [],
   "source": [
    "a=5"
   ]
  },
  {
   "cell_type": "code",
   "execution_count": null,
   "metadata": {},
   "outputs": [],
   "source": [
    "a>0"
   ]
  },
  {
   "cell_type": "code",
   "execution_count": null,
   "metadata": {},
   "outputs": [],
   "source": [
    "a>0 and a<100"
   ]
  },
  {
   "cell_type": "code",
   "execution_count": null,
   "metadata": {},
   "outputs": [],
   "source": [
    "a>0 or a<100"
   ]
  },
  {
   "cell_type": "code",
   "execution_count": null,
   "metadata": {},
   "outputs": [],
   "source": [
    "a%2==0"
   ]
  },
  {
   "cell_type": "markdown",
   "metadata": {},
   "source": [
    "# Exercice 8\n",
    "Écrire un programme qui demande la saisie d'un nombre $n$ et affiche si le nombre est pair ou impair."
   ]
  },
  {
   "cell_type": "code",
   "execution_count": null,
   "metadata": {},
   "outputs": [],
   "source": [
    "n=int(input(\"n=\"))\n",
    "if n%2==0:\n",
    "    print(\"Le nombre saisi %s est pair\" % n)\n",
    "else:\n",
    "    print(\"Le nombre saisi %s est impair\" % n)"
   ]
  },
  {
   "cell_type": "markdown",
   "metadata": {},
   "source": [
    "# Exercice 9\n",
    "Écrire un programme qui demande la saisie de deux nombres entiers $a$ et $b$ et affiche si l'un est un multiple de l'autre."
   ]
  },
  {
   "cell_type": "code",
   "execution_count": null,
   "metadata": {},
   "outputs": [],
   "source": [
    "# Première solution simple\n",
    "a=int(input(\"a=\"))\n",
    "b=int(input(\"b=\"))\n",
    "if a%b==0 or b%a==0:\n",
    "    print(\"les nombres %s et %s sont multiples\" % (a,b))"
   ]
  },
  {
   "cell_type": "code",
   "execution_count": null,
   "metadata": {},
   "outputs": [],
   "source": [
    "# Seconde solution avec réponse impair\n",
    "a=int(input(\"a=\"))\n",
    "b=int(input(\"b=\"))\n",
    "if a%b==0 or b%a==0:\n",
    "    print(\"les nombres %s et %s sont multiples\" % (a,b))\n",
    "else:\n",
    "    print(\"les nombres %s et %s ne sont pas multiples\" % (a,b))"
   ]
  },
  {
   "cell_type": "code",
   "execution_count": null,
   "metadata": {},
   "outputs": [],
   "source": [
    "# Troisième solution avec réponse plus précise\n",
    "a=int(input(\"a=\"))\n",
    "b=int(input(\"b=\"))\n",
    "if a%b==0:\n",
    "    print(\"le nombre %s est un multiple de %s\" % (a,b))\n",
    "elif b%a==0:\n",
    "    print(\"le nombre %s est un multiple de %s\" % (b,a))\n",
    "else:\n",
    "    print(\"les nombres %s et %s ne sont pas multiples\" % (a,b))"
   ]
  },
  {
   "cell_type": "markdown",
   "metadata": {},
   "source": [
    "# Exercice 10\n",
    "1. Écrire un code python qui demande de saisir un nom dans la variable \"nom\". De même avec le prénom dans une variable \"prenom\".\n",
    "2. Écrire un code python qui demande de saisir l'âge dans la variable \"age\".\n",
    "3. Afficher le message \"Vous vous appelez prénom nom et vous avez age ans.\" en remplaçant les variables nom, prénom et age par les valeurs saisies.\n",
    "4. Écrire un test qui permet de dire si la personne est plus jeune, plus vielle ou a le même âge que vous."
   ]
  },
  {
   "cell_type": "code",
   "execution_count": null,
   "metadata": {},
   "outputs": [],
   "source": [
    "monage=20\n",
    "nom=input(\"Votre nom:\")\n",
    "prenom=input(\"Votre prénom:\")\n",
    "age=int(input(\"Votre âge:\"))\n",
    "print(\"Vous vous appelez\",nom,prenom,\"et vous avez\",age,\"ans.\")\n",
    "print(\"Vous vous appelez %s %s et vous avez %s ans.\" % (nom,prenom,age))\n",
    "if age<monage:\n",
    "    print(\"Vous êtes plus jeune que moi!\")\n",
    "elif age>monage:\n",
    "    print(\"Vous êtes plus vieux que moi!\")\n",
    "else:\n",
    "    print(\"Nous avons le même age!\")"
   ]
  },
  {
   "cell_type": "markdown",
   "metadata": {},
   "source": [
    "# Exercice 11\n",
    "\n",
    "Écrire un programme qui demande la saisie des trois longueurs d'un triangle et affiche sa nature selon les cas."
   ]
  },
  {
   "cell_type": "code",
   "execution_count": null,
   "metadata": {},
   "outputs": [],
   "source": [
    "a=int(input(\"a=\"))\n",
    "b=int(input(\"b=\"))\n",
    "c=int(input(\"c=\"))\n",
    "if a==b==c:\n",
    "    print(\"le tringle est équilatéral\")\n",
    "elif a==b or b==c or a==c:\n",
    "    print(\"le triangle est isocèle\")\n",
    "elif a**2==b**2+c**2 or b**2==a**2+c**2 or c**2==a**2+b**2:\n",
    "    print(\"le triangle est rectangle\")\n",
    "else:\n",
    "    print(\"le triangle est scalène (3 mesures différentes)\")"
   ]
  },
  {
   "cell_type": "markdown",
   "metadata": {},
   "source": [
    "###  Remarque:\n",
    "On pourrait se demander pourquoi on ne teste pas si le triangle est rectangle et isocèle !     \n",
    "1. Cela impose d'avoir des longueurs non entières pour que ça se produise.\n",
    "2. tester des égalités avec des flottants est périlleux et nécessite un étude particulière."
   ]
  },
  {
   "cell_type": "markdown",
   "metadata": {},
   "source": [
    "# Exercice 12\n",
    "Écrire un programme qui demande la saisie d'une année $n$ et affiche si elle est bissextile ou non.      \n",
    "On rappelle qu'une année est bissextile si elle est un multiple de 4 mais pas un multiple de 100, ou si elle est un multiple de 400."
   ]
  },
  {
   "cell_type": "code",
   "execution_count": null,
   "metadata": {},
   "outputs": [],
   "source": [
    "annee=int(input(\"Année:\"))\n",
    "if ((annee%4==0) and (annee%100!=0)) or (annee%400==0):\n",
    "    print(\"L'année %s est bissextile\" % annee)\n",
    "else:\n",
    "    print(\"L'année %s n'est pas bissextile\" % annee)"
   ]
  },
  {
   "cell_type": "markdown",
   "metadata": {},
   "source": [
    "# Exercice 13\n",
    "On reprend le programme pour résoudre les équations du type $ax+b=0$.\n",
    "\n",
    "1. Que se passe-t-il si $a=0$ ? Effectuer un test pour vérifier que $a \\neq 0$.\n",
    "2. On souhaite améliorer l'affichage de l'équation pour éviter d'avoir $1.0x+-2=0$, mais plutôt $x-2=0$ !      \n",
    "a) Faire un test sur la valeur de $a$. Si $a=1$, on ne l'affiche pas !       \n",
    "b) Faire un test sur le signe de $b$. Si $b$ est négatif, on affiche directement $-$ au lieu de $+-$!\n",
    "3. Proposer une solution $x$ en écriture fractionnaire puis décimale."
   ]
  },
  {
   "cell_type": "code",
   "execution_count": null,
   "metadata": {},
   "outputs": [],
   "source": [
    "a=float(input(\"a=\"))\n",
    "b=float(input(\"b=\"))\n",
    "print(\"L'équation %sx+%s=0 admet pour solution x=%s\" % (a,b,-b/a))"
   ]
  },
  {
   "cell_type": "markdown",
   "metadata": {},
   "source": [
    "1. On a une erreur puisqu'on veut diviser par 0!"
   ]
  },
  {
   "cell_type": "code",
   "execution_count": null,
   "metadata": {},
   "outputs": [],
   "source": [
    "a=float(input(\"a=\"))\n",
    "b=float(input(\"b=\"))\n",
    "if a!=0:\n",
    "    print(\"L'équation %sx+%s=0 admet pour solution x=%s\" % (a,b,-b/a))\n",
    "else:\n",
    "    print(\"le nombre a doit être non nul!\")"
   ]
  },
  {
   "cell_type": "code",
   "execution_count": null,
   "metadata": {},
   "outputs": [],
   "source": [
    "# On gère l'affichage dans le cas a=1\n",
    "a=float(input(\"a=\"))\n",
    "b=float(input(\"b=\"))\n",
    "if a!=0:\n",
    "    if a==1:\n",
    "        print(\"L'équation x+%s=0 admet pour solution x=%s\" % (b,-b/a))\n",
    "    else:\n",
    "        print(\"L'équation %sx+%s=0 admet pour solution x=%s\" % (a,b,-b/a))\n",
    "else:\n",
    "    print(\"le nombre a doit être non nul!\")"
   ]
  },
  {
   "cell_type": "code",
   "execution_count": null,
   "metadata": {},
   "outputs": [],
   "source": [
    "# On gère l'affichage dans le cas b négatif\n",
    "a=float(input(\"a=\")) #int(input(\"a=\"))\n",
    "b=float(input(\"a=\")) #int(input(\"b=\"))\n",
    "if a!=0:\n",
    "    if a==1:\n",
    "        if b<0:\n",
    "            print(\"L'équation x%s=0 admet pour solution x=%s\" % (b,-b/a))\n",
    "        else:\n",
    "            print(\"L'équation x+%s=0 admet pour solution x=%s\" % (b,-b/a))\n",
    "    else:\n",
    "        if b<0:\n",
    "            print(\"L'équation %sx%s=0 admet pour solution x=%s\" % (a,b,-b/a))\n",
    "        else:\n",
    "            print(\"L'équation %sx+%s=0 admet pour solution x=%s\" % (a,b,-b/a))\n",
    "else:\n",
    "    print(\"le nombre a doit être non nul!\")"
   ]
  },
  {
   "cell_type": "markdown",
   "metadata": {},
   "source": [
    "# Exercice 14\n",
    "1. Écrire un programme qui demande la saisie de \\textbf{deux} entiers puis affiche ces \\textbf{deux} entiers dans l'ordre croissant.\n",
    "2. Écrire un programme qui demande la saisie de \\textbf{trois} entiers puis affiche ces \\textbf{trois} entiers dans l'ordre croissant.\n",
    "3. Combien de tests de comparaison faudrait-il pour 4 nombres entiers ?"
   ]
  },
  {
   "cell_type": "code",
   "execution_count": null,
   "metadata": {},
   "outputs": [],
   "source": [
    "a=int(input(\"a=\"))\n",
    "b=int(input(\"b=\"))\n",
    "if a<b:\n",
    "    print(\"%s < %s\" % (a,b))\n",
    "else:\n",
    "    print(\"%s < %s\" % (b,a))"
   ]
  },
  {
   "cell_type": "code",
   "execution_count": null,
   "metadata": {},
   "outputs": [],
   "source": [
    "a=int(input(\"a=\"))\n",
    "b=int(input(\"b=\"))\n",
    "c=int(input(\"c=\"))\n",
    "if a<b:\n",
    "    if c<a:\n",
    "        print(\"%s < %s < %s\" % (c,a,b))\n",
    "    elif c<b:\n",
    "        print(\"%s < %s < %s\" % (a,c,b))\n",
    "    else:\n",
    "        print(\"%s < %s < %s\" % (a,b,c))\n",
    "else:\n",
    "    if c<b:\n",
    "        print(\"%s < %s < %s\" % (c,b,a))\n",
    "    elif c<a:\n",
    "        print(\"%s < %s < %s\" % (b,c,a))\n",
    "    else:\n",
    "        print(\"%s < %s < %s\" % (b,a,c))"
   ]
  },
  {
   "cell_type": "markdown",
   "metadata": {},
   "source": [
    "Pour 3 nombres, on remarque qu'il y a 6 possibilités : $2 \\times 3=6$     \n",
    "Pour 4 nombres, on aura $2 \\times 3 \\times 4 = 24$ possibilités à étudier !\n",
    "Pour 5 nombres, il faudrait 120 instructions à proposer !!!!!!        \n",
    "Pour 10 nombres $2 \\times 3 \\times 4 \\times 5 \\times 6 \\times 7 \\times 8 \\times 9 \\times 10 = 3628800$"
   ]
  },
  {
   "cell_type": "markdown",
   "metadata": {},
   "source": [
    "# Exercice 15\n",
    "Une fonction polynôme du second degré est de la forme $ax^2+bx+c$ avec $ a \\neq  0$.    \n",
    "On propose de déterminer si le polynôme admet des racines, autrement dit, si l'équation $ax^2+bx+c=0$ admet des solutions. Écrire un programme en python pour:\n",
    "\n",
    "1. Saisir la valeur de chaque coefficient a, b et c du trinôme.\n",
    "2. Calculer le discriminant dans une variable delta et afficher sa valeur.\n",
    "3. Dire si le trinôme a 0, 1 ou 2 racines et en donner les valeurs.\n",
    "4. Tester votre code avec les trinômes $-x^2+3x-4$, $-x^2+2x-1$ et $\\dfrac{1}{2}x^2+x-7$.\n",
    "5. Modifier votre programme pour refuser la valeur $a=0$ en précisant que ce n'est pas du second degré."
   ]
  },
  {
   "cell_type": "code",
   "execution_count": null,
   "metadata": {},
   "outputs": [],
   "source": [
    "from math import sqrt\n",
    "a=float(input(\"a=\"))\n",
    "b=float(input(\"b=\"))\n",
    "c=float(input(\"c=\"))\n",
    "delta=b**2-4*a*c\n",
    "print(\"Le discriminant vaut:\",delta)\n",
    "if delta>0:\n",
    "    print(\"Le trinôme a 2 racines %s et %s\" % ((-b+sqrt(delta))/(2*a),(-b-sqrt(delta))/(2*a)))\n",
    "elif delta==0:\n",
    "    print(\"Le trinôme a une racine double %s\" % (-b/(2*a)))\n",
    "else:\n",
    "    print(\"Le trinôme n'a pas de racine\")"
   ]
  },
  {
   "cell_type": "code",
   "execution_count": null,
   "metadata": {},
   "outputs": [],
   "source": [
    "from math import sqrt\n",
    "a=float(input(\"a=\"))\n",
    "b=float(input(\"b=\"))\n",
    "c=float(input(\"c=\"))\n",
    "if a==0:\n",
    "    print(\"Ce n'est pas un trinôme du second degré !\")\n",
    "else:\n",
    "    delta=b**2-4*a*c\n",
    "    print(\"Le discriminant vaut:\",delta)\n",
    "    if delta>0:\n",
    "        print(\"Le trinôme a 2 racines %s et %s\" % ((-b+sqrt(delta))/(2*a),(-b-sqrt(delta))/(2*a)))\n",
    "    elif delta==0:\n",
    "        print(\"Le trinôme a une racine double %s\" % (-b/(2*a)))\n",
    "    else:\n",
    "        print(\"Le trinôme n'a pas de racine\")"
   ]
  },
  {
   "cell_type": "code",
   "execution_count": null,
   "metadata": {},
   "outputs": [],
   "source": []
  }
 ],
 "metadata": {
  "kernelspec": {
   "display_name": "Python 3",
   "language": "python",
   "name": "python3"
  },
  "language_info": {
   "codemirror_mode": {
    "name": "ipython",
    "version": 3
   },
   "file_extension": ".py",
   "mimetype": "text/x-python",
   "name": "python",
   "nbconvert_exporter": "python",
   "pygments_lexer": "ipython3",
   "version": "3.7.4"
  },
  "latex_envs": {
   "LaTeX_envs_menu_present": true,
   "autoclose": false,
   "autocomplete": true,
   "bibliofile": "biblio.bib",
   "cite_by": "apalike",
   "current_citInitial": 1,
   "eqLabelWithNumbers": true,
   "eqNumInitial": 1,
   "hotkeys": {
    "equation": "Ctrl-E",
    "itemize": "Ctrl-I"
   },
   "labels_anchors": false,
   "latex_user_defs": false,
   "report_style_numbering": false,
   "user_envs_cfg": false
  }
 },
 "nbformat": 4,
 "nbformat_minor": 2
}
