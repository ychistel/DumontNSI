{
 "cells": [
  {
   "cell_type": "markdown",
   "metadata": {},
   "source": [
    "# Exercice\n",
    "1. a) Créer une fonction \"somme\" qui prend en paramètre deux nombres a et b et affiche la somme de ces deux nombres.     \n",
    "b) Créer la variable c égale à la somme des nombres 113 et 341.     \n",
    "c) Calculer alors le carré de c.     \n",
    "d) Que se passe-t-il ?     \n",
    "2. a) Modifier la fonction \"somme\" qui prend en paramètre deux nombres a et b et retourne la somme de ces deux nombres.       \n",
    "b) Créer la variable c égale à la somme des nombres 113 et 341.        \n",
    "c) Calculer alors le carré de c.       \n",
    "d) Que se passe-t-il ?"
   ]
  },
  {
   "cell_type": "code",
   "execution_count": 29,
   "metadata": {},
   "outputs": [
    {
     "name": "stdout",
     "output_type": "stream",
     "text": [
      "454\n"
     ]
    },
    {
     "ename": "TypeError",
     "evalue": "unsupported operand type(s) for ** or pow(): 'NoneType' and 'int'",
     "output_type": "error",
     "traceback": [
      "\u001b[0;31m---------------------------------------------------------------------------\u001b[0m",
      "\u001b[0;31mTypeError\u001b[0m                                 Traceback (most recent call last)",
      "\u001b[0;32m<ipython-input-29-8f7784b7a3d1>\u001b[0m in \u001b[0;36m<module>\u001b[0;34m()\u001b[0m\n\u001b[1;32m      3\u001b[0m \u001b[0;34m\u001b[0m\u001b[0m\n\u001b[1;32m      4\u001b[0m \u001b[0mc\u001b[0m\u001b[0;34m=\u001b[0m\u001b[0msomme\u001b[0m\u001b[0;34m(\u001b[0m\u001b[0;36m113\u001b[0m\u001b[0;34m,\u001b[0m\u001b[0;36m341\u001b[0m\u001b[0;34m)\u001b[0m\u001b[0;34m\u001b[0m\u001b[0;34m\u001b[0m\u001b[0m\n\u001b[0;32m----> 5\u001b[0;31m \u001b[0mc\u001b[0m\u001b[0;34m**\u001b[0m\u001b[0;36m2\u001b[0m\u001b[0;34m\u001b[0m\u001b[0;34m\u001b[0m\u001b[0m\n\u001b[0m",
      "\u001b[0;31mTypeError\u001b[0m: unsupported operand type(s) for ** or pow(): 'NoneType' and 'int'"
     ]
    }
   ],
   "source": [
    "def somme(a,b):\n",
    "    print(a+b)\n",
    "    \n",
    "c=somme(113,341)\n",
    "c**2"
   ]
  },
  {
   "cell_type": "code",
   "execution_count": 30,
   "metadata": {
    "scrolled": true
   },
   "outputs": [
    {
     "data": {
      "text/plain": [
       "206116"
      ]
     },
     "execution_count": 30,
     "metadata": {},
     "output_type": "execute_result"
    }
   ],
   "source": [
    "def somme(a,b):\n",
    "    return a+b\n",
    "    \n",
    "c=somme(113,341)\n",
    "c**2"
   ]
  },
  {
   "cell_type": "markdown",
   "metadata": {},
   "source": [
    "# Exercice\n",
    "1. Créer une fonction \"somme_arithm\" qui prend en paramètre un nombre entier N et retourne la somme de tous les nombres entiers inférieurs ou égaux à N.\n",
    "2. Créer une fonction \"somme_carre\" qui prend en paramètre un nombre entier N et retourne la somme des carrés des nombres entiers inférieurs ou égaux à N.\n",
    "3. Créer une fonction \"somme_inverse\" qui prend en paramètre un nombre entier N et retourne la somme des inverses des nombres entiers inférieurs ou égaux à N.\n",
    "4. Créer une fonction \"somme_inverse_carre\" qui prend en paramètre un nombre entier N et retourne la somme des carrés des inverses des nombres entiers inférieurs ou égaux à N."
   ]
  },
  {
   "cell_type": "code",
   "execution_count": 57,
   "metadata": {},
   "outputs": [
    {
     "data": {
      "text/plain": [
       "45"
      ]
     },
     "execution_count": 57,
     "metadata": {},
     "output_type": "execute_result"
    }
   ],
   "source": [
    "def somme_arithm(N):\n",
    "    S=0\n",
    "    for k in range(N):\n",
    "        S=S+k\n",
    "    return S\n",
    "\n",
    "somme_arithm(10)"
   ]
  },
  {
   "cell_type": "code",
   "execution_count": 58,
   "metadata": {},
   "outputs": [
    {
     "data": {
      "text/plain": [
       "285"
      ]
     },
     "execution_count": 58,
     "metadata": {},
     "output_type": "execute_result"
    }
   ],
   "source": [
    "def somme_carre(N):\n",
    "    S=0\n",
    "    for k in range(N):\n",
    "        S=S+k**2\n",
    "    return S\n",
    "\n",
    "somme_carre(10)"
   ]
  },
  {
   "cell_type": "code",
   "execution_count": 65,
   "metadata": {},
   "outputs": [
    {
     "data": {
      "text/plain": [
       "7.484470860550343"
      ]
     },
     "execution_count": 65,
     "metadata": {},
     "output_type": "execute_result"
    }
   ],
   "source": [
    "def somme_inverse(N):\n",
    "    S=0\n",
    "    for k in range(1,N):\n",
    "        S=S+1/k\n",
    "    return S\n",
    "\n",
    "somme_inverse(1000)"
   ]
  },
  {
   "cell_type": "code",
   "execution_count": 69,
   "metadata": {},
   "outputs": [
    {
     "data": {
      "text/plain": [
       "1.644934057834575"
      ]
     },
     "execution_count": 69,
     "metadata": {},
     "output_type": "execute_result"
    }
   ],
   "source": [
    "def somme_inverse_carre(N):\n",
    "    S=0\n",
    "    for k in range(1,N):\n",
    "        S=S+1/k**2\n",
    "    return S\n",
    "\n",
    "somme_inverse_carre(100000000)"
   ]
  },
  {
   "cell_type": "markdown",
   "metadata": {},
   "source": [
    "# Exercice\n",
    "1. Écrire une fonction \"zen\" qui affiche la ligne de 10 caractères : ZNZNZNZNZN\n",
    "2. Modifier cette fonction pour prendre en **paramètre** le nombre n de caractères.\n",
    "3. Modifier cette fonction pour prendre aussi en paramètre chaque caractère N et Z.\n",
    "4. Utiliser la fonction zen pour créer les deux lignes suivantes :       \n",
    "ZNZNZNZNZN    \n",
    "NZNZNZNZNZ\n",
    "5. Écrire une fonction \"pluszen\" qui utilise la fonction zen pour afficher p lignes et n colonnes de 2 caractères décalés."
   ]
  },
  {
   "cell_type": "code",
   "execution_count": 1,
   "metadata": {},
   "outputs": [],
   "source": [
    "def zen():\n",
    "    for _ in range(5):\n",
    "        print(\"ZN\",end=\"\")"
   ]
  },
  {
   "cell_type": "code",
   "execution_count": 2,
   "metadata": {},
   "outputs": [
    {
     "name": "stdout",
     "output_type": "stream",
     "text": [
      "ZNZNZNZNZN"
     ]
    }
   ],
   "source": [
    "zen()"
   ]
  },
  {
   "cell_type": "code",
   "execution_count": 3,
   "metadata": {},
   "outputs": [],
   "source": [
    "def zen(n):\n",
    "    for _ in range(n//2):\n",
    "        print(\"ZN\",end=\"\")"
   ]
  },
  {
   "cell_type": "code",
   "execution_count": 4,
   "metadata": {
    "scrolled": true
   },
   "outputs": [
    {
     "name": "stdout",
     "output_type": "stream",
     "text": [
      "ZNZNZNZNZN"
     ]
    }
   ],
   "source": [
    "zen(10)"
   ]
  },
  {
   "cell_type": "code",
   "execution_count": 11,
   "metadata": {},
   "outputs": [],
   "source": [
    "def zen(n,c1,c2):\n",
    "    for _ in range(n//2):\n",
    "        print(\"%s%s\" % (c1,c2),end=\"\")\n",
    "    print()"
   ]
  },
  {
   "cell_type": "code",
   "execution_count": 70,
   "metadata": {},
   "outputs": [
    {
     "name": "stdout",
     "output_type": "stream",
     "text": [
      "ZNZNZNZNZN\n",
      "NZNZNZNZNZ\n"
     ]
    }
   ],
   "source": [
    "zen(10,\"Z\",\"N\")\n",
    "zen(10,\"N\",\"Z\")"
   ]
  },
  {
   "cell_type": "code",
   "execution_count": 13,
   "metadata": {},
   "outputs": [],
   "source": [
    "def pluszen(n,p):\n",
    "    for _ in range(p//2):\n",
    "        zen(n,\"Z\",\"N\")\n",
    "        zen(n,\"N\",\"Z\")"
   ]
  },
  {
   "cell_type": "code",
   "execution_count": 16,
   "metadata": {},
   "outputs": [
    {
     "name": "stdout",
     "output_type": "stream",
     "text": [
      "ZNZNZNZNZNZN\n",
      "NZNZNZNZNZNZ\n",
      "ZNZNZNZNZNZN\n",
      "NZNZNZNZNZNZ\n",
      "ZNZNZNZNZNZN\n",
      "NZNZNZNZNZNZ\n",
      "ZNZNZNZNZNZN\n",
      "NZNZNZNZNZNZ\n",
      "ZNZNZNZNZNZN\n",
      "NZNZNZNZNZNZ\n",
      "ZNZNZNZNZNZN\n",
      "NZNZNZNZNZNZ\n"
     ]
    }
   ],
   "source": [
    "pluszen(12,12)"
   ]
  },
  {
   "cell_type": "markdown",
   "metadata": {},
   "source": [
    "# Exercice\n",
    "1. Créer une fonction \"est_pair\" qui prend en paramètre un nombre entier et retourne True si le nombre est pair et False s'il ne l'est pas.\n",
    "2. Créer une fonction \"est_multiple\" qui prend en paramètre 2 nombres entiers et qui retourne True si le premier nombre est un multiple du second et False sinon.\n",
    "3. Un nombre entier est dit premier s'il est divisible par 1 et lui-même. Écrire une fonction \"est_premier\" qui prend en paramètre un nombre entier et retourne True s'il est premier et False sinon."
   ]
  },
  {
   "cell_type": "code",
   "execution_count": 31,
   "metadata": {},
   "outputs": [],
   "source": [
    "def est_pair(n):\n",
    "    if n%2==0: return True\n",
    "    else: return False"
   ]
  },
  {
   "cell_type": "code",
   "execution_count": 32,
   "metadata": {},
   "outputs": [
    {
     "data": {
      "text/plain": [
       "False"
      ]
     },
     "execution_count": 32,
     "metadata": {},
     "output_type": "execute_result"
    }
   ],
   "source": [
    "est_pair(9)"
   ]
  },
  {
   "cell_type": "code",
   "execution_count": 33,
   "metadata": {},
   "outputs": [
    {
     "data": {
      "text/plain": [
       "True"
      ]
     },
     "execution_count": 33,
     "metadata": {},
     "output_type": "execute_result"
    }
   ],
   "source": [
    "est_pair(10)"
   ]
  },
  {
   "cell_type": "code",
   "execution_count": 34,
   "metadata": {},
   "outputs": [],
   "source": [
    "def est_multiple(n,p):\n",
    "    if n%p==0: return True\n",
    "    else: return False"
   ]
  },
  {
   "cell_type": "code",
   "execution_count": 35,
   "metadata": {},
   "outputs": [
    {
     "data": {
      "text/plain": [
       "True"
      ]
     },
     "execution_count": 35,
     "metadata": {},
     "output_type": "execute_result"
    }
   ],
   "source": [
    "est_multiple(12,3)"
   ]
  },
  {
   "cell_type": "code",
   "execution_count": 36,
   "metadata": {},
   "outputs": [
    {
     "data": {
      "text/plain": [
       "False"
      ]
     },
     "execution_count": 36,
     "metadata": {},
     "output_type": "execute_result"
    }
   ],
   "source": [
    "est_multiple(15,4)"
   ]
  },
  {
   "cell_type": "code",
   "execution_count": 37,
   "metadata": {},
   "outputs": [],
   "source": [
    "def est_premier(n):\n",
    "    for k in range(2,n):\n",
    "        if n%k==0: return False\n",
    "    return True"
   ]
  },
  {
   "cell_type": "code",
   "execution_count": 38,
   "metadata": {},
   "outputs": [
    {
     "data": {
      "text/plain": [
       "False"
      ]
     },
     "execution_count": 38,
     "metadata": {},
     "output_type": "execute_result"
    }
   ],
   "source": [
    "est_premier(10)"
   ]
  },
  {
   "cell_type": "code",
   "execution_count": 39,
   "metadata": {},
   "outputs": [
    {
     "data": {
      "text/plain": [
       "False"
      ]
     },
     "execution_count": 39,
     "metadata": {},
     "output_type": "execute_result"
    }
   ],
   "source": [
    "est_premier(21)"
   ]
  },
  {
   "cell_type": "code",
   "execution_count": 40,
   "metadata": {
    "scrolled": true
   },
   "outputs": [
    {
     "data": {
      "text/plain": [
       "True"
      ]
     },
     "execution_count": 40,
     "metadata": {},
     "output_type": "execute_result"
    }
   ],
   "source": [
    "est_premier(17)"
   ]
  },
  {
   "cell_type": "code",
   "execution_count": 47,
   "metadata": {},
   "outputs": [
    {
     "data": {
      "text/plain": [
       "True"
      ]
     },
     "execution_count": 47,
     "metadata": {},
     "output_type": "execute_result"
    }
   ],
   "source": [
    "est_premier(15787)"
   ]
  },
  {
   "cell_type": "markdown",
   "metadata": {},
   "source": [
    "# Exercice\n",
    "\n",
    "On dit que deux nombres entiers A et B sont amicaux si la somme des diviseurs de A est égale à B et en même temps la somme des diviseurs de B est égale à A. Attention, on ne prend pas en compte A et B comme diviseur ([wikipedia - nombres amicaux](https://fr.wikipedia.org/wiki/Nombres_amicaux)).\n",
    "\n",
    "1. Créer une fonction \"somme\\_diviseur\" qui prend en paramètre un nombre entier N et retourne la somme des diviseurs de N (on ne doit pas prendre  en compte N comme diviseur).\n",
    "2. Créer une fonction \"nombres\\_amicaux\" qui prend en paramètre 2 nombres entiers A et B et retourne True s'ils sont amicaux et False sinon.\n",
    "3. Vérifier que les nombres 220 et 284 sont amicaux. De même avec 12 285 et 14 595."
   ]
  },
  {
   "cell_type": "code",
   "execution_count": 76,
   "metadata": {
    "scrolled": true
   },
   "outputs": [
    {
     "data": {
      "text/plain": [
       "11"
      ]
     },
     "execution_count": 76,
     "metadata": {},
     "output_type": "execute_result"
    }
   ],
   "source": [
    "def somme_diviseur(N):\n",
    "    S=0\n",
    "    for k in range(1,N-1):\n",
    "        if N%k==0:\n",
    "            #print(k)\n",
    "            S=S+k\n",
    "    return S\n",
    "\n",
    "somme_diviseur(21)"
   ]
  },
  {
   "cell_type": "code",
   "execution_count": 79,
   "metadata": {},
   "outputs": [
    {
     "data": {
      "text/plain": [
       "True"
      ]
     },
     "execution_count": 79,
     "metadata": {},
     "output_type": "execute_result"
    }
   ],
   "source": [
    "def nombres_amicaux(A,B):\n",
    "    if somme_diviseur(A)==B and somme_diviseur(B)==A: return True\n",
    "    else: return False\n",
    "    \n",
    "nombres_amicaux(12285,14595)"
   ]
  },
  {
   "cell_type": "markdown",
   "metadata": {},
   "source": [
    "# Exercice\n",
    "Créer une fonction \"retourne\" qui prend en paramètre 1 nombre entier et retourne le nombre écrit à l'envers. Par exemple, retourne(123)=321"
   ]
  },
  {
   "cell_type": "code",
   "execution_count": 54,
   "metadata": {},
   "outputs": [],
   "source": [
    "def retourne(n):\n",
    "    nb=''\n",
    "    while n//10!=0:\n",
    "        r=n%10\n",
    "        nb=nb+str(r)\n",
    "        n=n//10\n",
    "    nb=nb+str(n)\n",
    "    return int(nb)"
   ]
  },
  {
   "cell_type": "code",
   "execution_count": 56,
   "metadata": {},
   "outputs": [
    {
     "data": {
      "text/plain": [
       "7654321"
      ]
     },
     "execution_count": 56,
     "metadata": {},
     "output_type": "execute_result"
    }
   ],
   "source": [
    "retourne(1234567)"
   ]
  },
  {
   "cell_type": "code",
   "execution_count": null,
   "metadata": {},
   "outputs": [],
   "source": []
  }
 ],
 "metadata": {
  "kernelspec": {
   "display_name": "Python 3",
   "language": "python",
   "name": "python3"
  },
  "language_info": {
   "codemirror_mode": {
    "name": "ipython",
    "version": 3
   },
   "file_extension": ".py",
   "mimetype": "text/x-python",
   "name": "python",
   "nbconvert_exporter": "python",
   "pygments_lexer": "ipython3",
   "version": "3.7.4"
  },
  "latex_envs": {
   "bibliofile": "biblio.bib",
   "cite_by": "apalike",
   "current_citInitial": 1,
   "eqLabelWithNumbers": true,
   "eqNumInitial": 0
  }
 },
 "nbformat": 4,
 "nbformat_minor": 2
}
