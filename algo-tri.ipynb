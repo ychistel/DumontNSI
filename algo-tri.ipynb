{
 "cells": [
  {
   "cell_type": "markdown",
   "metadata": {},
   "source": [
    "# Exercice 1\n",
    "\n",
    "1. Créer un tableau T de valeurs choisies aléatoirement entre 1 et 1000.\n",
    "2. Écrire une fonction de recherche de la valeur minimum de ce tableau (non trié) en appliquant l'algorithme donné dans le cours.\n",
    "    \n",
    "    $m \\longleftarrow T[0]$     \n",
    "    Pour i allant de 1 à longueur(T):\n",
    "        Si T[i]<m alors m=T[i]      \n",
    "    Fin pour\n",
    "\n",
    "3. Écrire une fonction de recherche du maximum d'un tableau non trié.\n",
    "4. Existe-t-il des fonctions python effectuant ces recherches ?\n",
    "5. Écrire un algorithme qui renvoie le minimum et le maximum d'un tableau de nombres. Transformer cet algorithme en langage python.\n",
    "6. Soit T un tableau non trié de 10 valeurs.    \n",
    "a) Combien de comparaisons peut-on prévoir au maximum pour trouver le minimum ?     \n",
    "b) Qu'en est-il pour un tableau de 15 valeurs ?     \n",
    "c) Généraliser avec un tableau de n valeurs."
   ]
  },
  {
   "cell_type": "code",
   "execution_count": 3,
   "metadata": {},
   "outputs": [
    {
     "name": "stdout",
     "output_type": "stream",
     "text": [
      "[134, 99, 299, 990, 385, 73, 640, 309, 520, 355]\n"
     ]
    }
   ],
   "source": [
    "import random as r\n",
    "\n",
    "def creer_tab_alea(n):\n",
    "    \"\"\"Crée un tableau de dimension n dont les valeurs sont des entiers choisis aléatoirement entre 1 et 1000\"\"\"\n",
    "    return [r.randint(1,1000) for i in range(n)]\n",
    "    \n",
    "t=creer_tab_alea(10)\n",
    "print(t)"
   ]
  },
  {
   "cell_type": "code",
   "execution_count": 11,
   "metadata": {
    "scrolled": true
   },
   "outputs": [
    {
     "name": "stdout",
     "output_type": "stream",
     "text": [
      "Help on function creer_tab_alea in module __main__:\n",
      "\n",
      "creer_tab_alea(n)\n",
      "    Crée un tableau de dimension n dont les valeurs sont des entiers choisis aléatoirement entre 1 et 1000\n",
      "\n"
     ]
    }
   ],
   "source": [
    "help(creer_tab_alea)"
   ]
  },
  {
   "cell_type": "code",
   "execution_count": 4,
   "metadata": {},
   "outputs": [
    {
     "data": {
      "text/plain": [
       "73"
      ]
     },
     "execution_count": 4,
     "metadata": {},
     "output_type": "execute_result"
    }
   ],
   "source": [
    "def valeur_min(t):\n",
    "    \"\"\"Recherche de la valeur minimale d'un tableau de nombres\"\"\"\n",
    "    # la première valeur du tableau est la plus petite (au début!)\n",
    "    m=t[0]\n",
    "    # on parcourt le tableau en comparant chaque valeur à m\n",
    "    for i in range(len(t)):\n",
    "        # si la valeur du tableau est inférieure alors elle devient le minimum\n",
    "        if t[i]<m:\n",
    "            m=t[i]\n",
    "    # on sort de la boucle après comparaison de toutes les valeurs du tableau et on renvoie la valeur minimale m\n",
    "    return m\n",
    "\n",
    "valeur_min(t)"
   ]
  },
  {
   "cell_type": "markdown",
   "metadata": {},
   "source": [
    "#### Algorithme de recherche de la valeur maximale d'un tableau :\n",
    "\n",
    "    M <- T[0]        \n",
    "    Pour i allant de 1 à longueur(T):\n",
    "        Si T[i]>M alors M=T[i]      \n",
    "    Fin pour "
   ]
  },
  {
   "cell_type": "code",
   "execution_count": 13,
   "metadata": {},
   "outputs": [
    {
     "data": {
      "text/plain": [
       "888"
      ]
     },
     "execution_count": 13,
     "metadata": {},
     "output_type": "execute_result"
    }
   ],
   "source": [
    "def valeur_max(t):\n",
    "    \"\"\"Recherche de la valeur minimale d'un tableau de nombres\"\"\"\n",
    "    # la première valeur du tableau est la plus grande (au début!)\n",
    "    M=t[0]\n",
    "    # on parcourt le tableau en comparant chaque valeur à M\n",
    "    for i in range(len(t)):\n",
    "        # si la valeur du tableau est supérieure alors elle devient le maximum\n",
    "        if t[i]>M:\n",
    "            M=t[i]\n",
    "    # on sort de la boucle après comparaison de toutes les valeurs du tableau et on renvoie la valeur maximale m\n",
    "    return M\n",
    "\n",
    "valeur_max(t)"
   ]
  },
  {
   "cell_type": "markdown",
   "metadata": {},
   "source": [
    "#### Nombre de comparaisons\n",
    "\n",
    "a) Si le tableau contient 3 valeurs :    \n",
    "Soit T=[23,12,9] \n",
    "- m = 23\n",
    "- 12<m donc m=12\n",
    "- 9<m donc m=9\n",
    "On fait 2 comparaisons!\n",
    "\n",
    "b) Si le tableau contient 5 valeurs, on va réaliser 4 comparaisons.\n",
    "\n",
    "c) Si le tableau contient $n$ valeurs, on va réaliser $n-1$ comparaisons.\n",
    "\n",
    "On dit que notre algorithme de recherche d'un minimum ou maximum est **complexité** $n-1$. La complexité d'un algorithme permet de mesurer son **efficacité**. Dans le cas présent, la complexité est proportionnelle à la dimension $n$ du tableau, elle est dite **linéaire** et se note $O(n)$"
   ]
  },
  {
   "cell_type": "markdown",
   "metadata": {},
   "source": [
    "# Exercice 2\n",
    "\n",
    "Les fonctions de tri de python sont très efficaces. Il en existe 2 pour les tableaux de valeurs : sort() et sorted().\n",
    "\n",
    "- la première, sort(), est une méthode qui s'applique directement sur le tableau\n",
    "- la seconde, sorted(), est une fonction qui renvoie un tableau trié que l'on peut affecter à une variable.\n"
   ]
  },
  {
   "cell_type": "code",
   "execution_count": 16,
   "metadata": {},
   "outputs": [
    {
     "name": "stdout",
     "output_type": "stream",
     "text": [
      "[774, 625, 340, 386, 67, 540, 510, 129, 851, 548]\n"
     ]
    }
   ],
   "source": [
    "A=creer_tab_alea(10)\n",
    "print(A)"
   ]
  },
  {
   "cell_type": "code",
   "execution_count": 17,
   "metadata": {},
   "outputs": [
    {
     "name": "stdout",
     "output_type": "stream",
     "text": [
      "[67, 129, 340, 386, 510, 540, 548, 625, 774, 851]\n"
     ]
    }
   ],
   "source": [
    "A.sort()\n",
    "print(A)"
   ]
  },
  {
   "cell_type": "code",
   "execution_count": 18,
   "metadata": {},
   "outputs": [
    {
     "name": "stdout",
     "output_type": "stream",
     "text": [
      "[41, 704, 346, 742, 205, 971, 597, 1, 698, 789]\n"
     ]
    }
   ],
   "source": [
    "B=creer_tab_alea(10)\n",
    "print(B)"
   ]
  },
  {
   "cell_type": "code",
   "execution_count": 19,
   "metadata": {},
   "outputs": [
    {
     "name": "stdout",
     "output_type": "stream",
     "text": [
      "[41, 704, 346, 742, 205, 971, 597, 1, 698, 789]\n",
      "[1, 41, 205, 346, 597, 698, 704, 742, 789, 971]\n"
     ]
    }
   ],
   "source": [
    "C=sorted(B)\n",
    "print(B)\n",
    "print(C)"
   ]
  },
  {
   "cell_type": "markdown",
   "metadata": {},
   "source": [
    "# Exercice 3\n",
    "\n",
    "### Le tri par sélection\n",
    "\n",
    "1. Créer un tableau T de valeurs choisies aléatoirement entre 1 et 1000.\n",
    "2. Écrire en python l'algorithme de tri par sélection. Appliquez-le à votre tableau T et vérifiez qu'il est bien trié.\n",
    "    \n",
    "    $i \\longleftarrow 1$    \n",
    "    tant que $i < \\text{longueur(t)}$:   //boucle 1    \n",
    "    $j \\longleftarrow i$    \n",
    "        $\\text{min} \\longleftarrow i$    \n",
    "        tant que $j <= \\text{longueur(t)}$:   //boucle 2    \n",
    "            si $t[j] < t[min]$:\n",
    "                $\\text{min} \\longleftarrow j$    \n",
    "            fin si\n",
    "            $j \\longleftarrow j+1$\n",
    "        fin tant que\n",
    "        si $min \\neq i$ :\n",
    "            échanger t[i] et t[min]\n",
    "        fin si\n",
    "        $i \\longleftarrow i+1$\n",
    "    fin tant que\n",
    "\n",
    "3. a) Combien de comparaisons sont nécessaires pour trier un tableau de $3$ valeurs ?      \n",
    "b) Combien de comparaisons sont nécessaires pour trier un tableau de $5$ valeurs ?       \n",
    "c) Combien de comparaisons sont nécessaires pour trier un tableau de $n$ valeurs ?"
   ]
  },
  {
   "cell_type": "code",
   "execution_count": 20,
   "metadata": {},
   "outputs": [],
   "source": [
    "def tri_par_selection(t):\n",
    "    i=0\n",
    "    while i<len(t):\n",
    "        j=i\n",
    "        min=i\n",
    "        while j<len(t):\n",
    "            if t[j]<t[min]:\n",
    "                min=j\n",
    "            j=j+1\n",
    "        if min != i:\n",
    "            t[i],t[min]=t[min],t[i]\n",
    "            print(t)\n",
    "        i=i+1\n",
    "    return t"
   ]
  },
  {
   "cell_type": "code",
   "execution_count": 25,
   "metadata": {
    "scrolled": true
   },
   "outputs": [
    {
     "name": "stdout",
     "output_type": "stream",
     "text": [
      "[434, 756, 115, 329, 249, 347]\n",
      "[115, 756, 434, 329, 249, 347]\n",
      "[115, 249, 434, 329, 756, 347]\n",
      "[115, 249, 329, 434, 756, 347]\n",
      "[115, 249, 329, 347, 756, 434]\n",
      "[115, 249, 329, 347, 434, 756]\n"
     ]
    },
    {
     "data": {
      "text/plain": [
       "[115, 249, 329, 347, 434, 756]"
      ]
     },
     "execution_count": 25,
     "metadata": {},
     "output_type": "execute_result"
    }
   ],
   "source": [
    "t=creer_tab_alea(6)\n",
    "print(t)\n",
    "tri_par_selection(t)"
   ]
  },
  {
   "cell_type": "markdown",
   "metadata": {},
   "source": [
    "3.a) Pour un tableau de 3 valeurs, il faut 3 comparaisons : t=[3,5,1]       \n",
    "-> on compare 3 avec 5 puis 1 => 2 comparaisons et t=[1,5,3]         \n",
    "-> on compare 5 avec 3 => 1 comparaison et t = [1,3,5]\n",
    "Au total, on a 2+1=3 comparaisons\n",
    "\n",
    "3.b) Pour un tableau de 5 valeurs, il faut 10 comparaisons : t=[3,5,1,4,7]       \n",
    "-> on compare 3 avec 5,1,4 et 7 => 4 comparaisons et t=[1,5,3,4,7]         \n",
    "-> on compare 5 avec 3,4,7 => 3 comparaisons et t = [1,3,5,4,7]         \n",
    "-> on compare 5 avec 4 et 7 => 2 comparaisons et t= [1,3,4,5,7]           \n",
    "-> on compare 5 avec 7 => 1 comparaison et t=[1,3,4,5,7]\n",
    "Au total, on a 4+3+2+1=10 comparaisons\n",
    "\n",
    "3.c) Pour un tableau à n valeurs, il faut n*(n-1)/2 comparaisons      \n",
    "-> La première valeur est comparée avec les n-1 restantes => n-1 comparaisons,        \n",
    "-> La seconde valeur est comparée avec les n-2 restantes => n-2 comparaisons,          \n",
    "-> ....            \n",
    "-> L'antépénultième valeur est comparée avec les 2 dernières => 2 comparaisons,         \n",
    "-> La pénultième valeur est comparée avec la dernière valeur => 1 comparaison,           \n",
    "-> La dernière n'est pas comparée (on sort de la boucle)        \n",
    "\n",
    "Au total on a : (n-1)+(n-2)+...+2+1=n(n-1)/2 comparaisons\n",
    "\n",
    "Après développement, on a $O(n)=\\dfrac{n^2}{2}-\\dfrac{n}{2}$ comparaisons qui est de l'ordre de $n^2$.\n",
    "La complexité de cet algorithme est dite **quadratique**"
   ]
  },
  {
   "cell_type": "markdown",
   "metadata": {},
   "source": [
    "# Exercice 4\n",
    "\n",
    "1. Créer un tableau T de valeurs choisies aléatoirement entre 1 et 1000.\n",
    "2. Écrire en python l'algorithme de tri par insertion. Appliquez-le à votre tableau T et vérifiez qu'il est bien trié.\n",
    "\n",
    "\n",
    "    $j \\longleftarrow 2$\\\\\n",
    "    tant que $j <= \\text{longueur}(t)$:   //boucle 1\n",
    "        $i \\longleftarrow j-1$\n",
    "        $k \\longleftarrow t[j]$\n",
    "        tant que $i>0$ et que $t[i]>k$:   //boucle 2\n",
    "            $t[i+1] \\longleftarrow t[i]$\n",
    "            $i \\longleftarrow i-1$\n",
    "        fin tant que\n",
    "        $t[i+1] \\longleftarrow k$\n",
    "        $j \\longleftarrow j+1$\\\\\n",
    "    fin tant que\n",
    "\n",
    "3.a) Combien de comparaisons sont nécessaires pour trier un tableau de $3$ valeurs ?        \n",
    "b) Combien de comparaisons sont nécessaires pour trier un tableau de $5$ valeurs ?       \n",
    "c) Combien de comparaisons sont nécessaires pour trier un tableau de $n$ valeurs ?"
   ]
  },
  {
   "cell_type": "code",
   "execution_count": 8,
   "metadata": {},
   "outputs": [],
   "source": [
    "def tri_par_insertion(t):\n",
    "    j=1\n",
    "    d=0\n",
    "    while j<len(t):\n",
    "        i=j-1\n",
    "        k=t[j]\n",
    "        #print(k)\n",
    "        while i>=0 and t[i]>k:\n",
    "            t[i+1]=t[i]\n",
    "            d+=1\n",
    "            t[i]=k # juste pour visualiser l'insertion\n",
    "            print(t)\n",
    "            i=i-1\n",
    "        t[i+1]=k\n",
    "        j=j+1\n",
    "    print(\"Nb décalages=\",d)\n",
    "    #return t"
   ]
  },
  {
   "cell_type": "code",
   "execution_count": null,
   "metadata": {},
   "outputs": [],
   "source": [
    "def tri_par_insertion(t):\n",
    "    j=1\n",
    "    while j<len(t):\n",
    "        i=j-1\n",
    "        k=t[j]\n",
    "        while i>=0 and t[i]>k:\n",
    "            t[i+1]=t[i]\n",
    "            i=i-1\n",
    "        t[i+1]=k\n",
    "        j=j+1\n",
    "    return t"
   ]
  },
  {
   "cell_type": "code",
   "execution_count": 9,
   "metadata": {
    "scrolled": false
   },
   "outputs": [
    {
     "name": "stdout",
     "output_type": "stream",
     "text": [
      "[582, 786, 860, 300, 829, 285, 420, 280, 104, 777]\n",
      "[582, 786, 300, 860, 829, 285, 420, 280, 104, 777]\n",
      "[582, 300, 786, 860, 829, 285, 420, 280, 104, 777]\n",
      "[300, 582, 786, 860, 829, 285, 420, 280, 104, 777]\n",
      "[300, 582, 786, 829, 860, 285, 420, 280, 104, 777]\n",
      "[300, 582, 786, 829, 285, 860, 420, 280, 104, 777]\n",
      "[300, 582, 786, 285, 829, 860, 420, 280, 104, 777]\n",
      "[300, 582, 285, 786, 829, 860, 420, 280, 104, 777]\n",
      "[300, 285, 582, 786, 829, 860, 420, 280, 104, 777]\n",
      "[285, 300, 582, 786, 829, 860, 420, 280, 104, 777]\n",
      "[285, 300, 582, 786, 829, 420, 860, 280, 104, 777]\n",
      "[285, 300, 582, 786, 420, 829, 860, 280, 104, 777]\n",
      "[285, 300, 582, 420, 786, 829, 860, 280, 104, 777]\n",
      "[285, 300, 420, 582, 786, 829, 860, 280, 104, 777]\n",
      "[285, 300, 420, 582, 786, 829, 280, 860, 104, 777]\n",
      "[285, 300, 420, 582, 786, 280, 829, 860, 104, 777]\n",
      "[285, 300, 420, 582, 280, 786, 829, 860, 104, 777]\n",
      "[285, 300, 420, 280, 582, 786, 829, 860, 104, 777]\n",
      "[285, 300, 280, 420, 582, 786, 829, 860, 104, 777]\n",
      "[285, 280, 300, 420, 582, 786, 829, 860, 104, 777]\n",
      "[280, 285, 300, 420, 582, 786, 829, 860, 104, 777]\n",
      "[280, 285, 300, 420, 582, 786, 829, 104, 860, 777]\n",
      "[280, 285, 300, 420, 582, 786, 104, 829, 860, 777]\n",
      "[280, 285, 300, 420, 582, 104, 786, 829, 860, 777]\n",
      "[280, 285, 300, 420, 104, 582, 786, 829, 860, 777]\n",
      "[280, 285, 300, 104, 420, 582, 786, 829, 860, 777]\n",
      "[280, 285, 104, 300, 420, 582, 786, 829, 860, 777]\n",
      "[280, 104, 285, 300, 420, 582, 786, 829, 860, 777]\n",
      "[104, 280, 285, 300, 420, 582, 786, 829, 860, 777]\n",
      "[104, 280, 285, 300, 420, 582, 786, 829, 777, 860]\n",
      "[104, 280, 285, 300, 420, 582, 786, 777, 829, 860]\n",
      "[104, 280, 285, 300, 420, 582, 777, 786, 829, 860]\n",
      "Nb décalages= 31\n",
      "[104, 280, 285, 300, 420, 582, 777, 786, 829, 860]\n"
     ]
    }
   ],
   "source": [
    "t=creer_tab_alea(10)\n",
    "#t=creer_tab_alea(1000)\n",
    "#t=[6,5,4,3,2,1]\n",
    "#t=[1000-i for i in range(1000)]\n",
    "print(t)\n",
    "tri_par_insertion(t)\n",
    "print(t)"
   ]
  },
  {
   "cell_type": "markdown",
   "metadata": {},
   "source": [
    "3.a) Pour un tableau de 3 valeurs, on peut avoir 3 décalages : t=[3,2,1]       \n",
    "-> on décale 2 avec 3 => 1 décalage et t=[2,3,1]         \n",
    "-> on décale 1 avec 3 et 2 => 2 décalages et t = [1,2,3]\n",
    "Au total, on a 2+1=3 décalages\n",
    "\n",
    "3.b) Pour un tableau de 5 valeurs, on peut avoir 10 décalagess : t=[5,4,3,2,1]       \n",
    "-> on décale 4 avec 5 => 1 décalage et t=[4,5,3,2,1]          \n",
    "-> on décale 3 avec 5 et 4 => 2 décalages et t= [3,4,5,2,1]        \n",
    "-> on décale 2 avec 5,4,3 => 3 décalages et t = [2,3,4,5,1]         \n",
    "-> on décale 1 avec 5,4,3,2 => 4 décalages et t=[1,2,3,4,5]      \n",
    "Au total, on a 4+3+2+1=10 décalages\n",
    "\n",
    "3.c) Pour un tableau à n valeurs, on peut avoir jusqu'à n*(n-1)/2 décalages\n",
    "-> La seconde valeur est décalée avec la première => 1 décalage,        \n",
    "-> La troisième valeur est décalée avec les 2 premières => 2 décalages,          \n",
    "-> ....            \n",
    "-> L'antépénultième valeur est décalée avec les n-3 premières valeurs => n-3 décalagess,         \n",
    "-> La pénultième valeur est décaléeée avec les n-2 premières valeurs => n-2 décalages,           \n",
    "-> La dernière valeur est décalée avec les n-1 premières valeurs => n-1 décalages        \n",
    "\n",
    "Au total on a : (n-1)+(n-2)+...+2+1=n(n-1)/2 décalages\n",
    "\n",
    "Après développement, on a $O(n)=\\dfrac{n^2}{2}-\\dfrac{n}{2}$ opérations de décalages qui est de l'ordre de $n^2$.\n",
    "La complexité de cet algorithme est dite **quadratique**\n",
    "\n",
    "**Remarque**     \n",
    "Si la taille d'un tableau double, le nombre d'opérations de décalages est multiplié par 4 !"
   ]
  }
 ],
 "metadata": {
  "celltoolbar": "Format de la Cellule Texte Brut",
  "kernelspec": {
   "display_name": "Python 3",
   "language": "python",
   "name": "python3"
  },
  "language_info": {
   "codemirror_mode": {
    "name": "ipython",
    "version": 3
   },
   "file_extension": ".py",
   "mimetype": "text/x-python",
   "name": "python",
   "nbconvert_exporter": "python",
   "pygments_lexer": "ipython3",
   "version": "3.8.1"
  }
 },
 "nbformat": 4,
 "nbformat_minor": 2
}
