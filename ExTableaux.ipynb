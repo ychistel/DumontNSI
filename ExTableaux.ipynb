{
 "cells": [
  {
   "cell_type": "markdown",
   "metadata": {},
   "source": [
    "# Exercice 1\n",
    "\n",
    "1. Créer le tableau suivant : t=[2,3,5,7,11,13,17,19,23,29,31,37]\n",
    "2. Afficher sur 3 lignes, avec une seule instruction **print**, la longueur de ce tableau, le premier élément et son dernier élément.\n",
    "\n",
    "3. a) Créer un second tableau t1 de la même dimension que t dont toutes valeurs sont 0.     \n",
    "3. b) En utilisant une boucle **for**, compléter le tableau t1 avec les valeurs du tableau t rangées dans l'ordre inverse.\n",
    "\n",
    "4. Créer un tableau s dont les valeurs sont la somme des valeurs des tableaux t et t1 de même indice.\n",
    "5. Créer une fonction **aleat** qui retourne un élément du tableau choisi au hasard. On affectera la valeur de la fonction à une variable que l'on affichera.\n"
   ]
  },
  {
   "cell_type": "code",
   "execution_count": 2,
   "metadata": {},
   "outputs": [],
   "source": [
    "t=[2,3,5,7,11,13,17,19,23,29,31,37]"
   ]
  },
  {
   "cell_type": "code",
   "execution_count": 3,
   "metadata": {},
   "outputs": [
    {
     "name": "stdout",
     "output_type": "stream",
     "text": [
      "nombre de valeurs : 12 \n",
      "premier élément : 2 \n",
      "dernier élément : 37\n"
     ]
    }
   ],
   "source": [
    "print(\"nombre de valeurs :\",len(t),\"\\npremier élément :\",t[0],\"\\ndernier élément :\", t[len(t)-1])"
   ]
  },
  {
   "cell_type": "code",
   "execution_count": 7,
   "metadata": {},
   "outputs": [
    {
     "name": "stdout",
     "output_type": "stream",
     "text": [
      "[37, 31, 29, 23, 19, 17, 13, 11, 7, 5, 3, 2]\n"
     ]
    }
   ],
   "source": [
    "# On crée un tableau de zéros t1\n",
    "t1=[0]*12\n",
    "\n",
    "# On itère sur les tableaux t et t1 pour remplir le tableau t1 avec les valeurs de t (inversées).\n",
    "# Remarque : on suppose que le tableau t existe !\n",
    "for i in range(12):\n",
    "    t1[i]=t[11-i]\n",
    "    \n",
    "# On affiche le tableau t1\n",
    "print(t1)"
   ]
  },
  {
   "cell_type": "code",
   "execution_count": 9,
   "metadata": {},
   "outputs": [
    {
     "name": "stdout",
     "output_type": "stream",
     "text": [
      "Le tableau somme est: [39, 34, 34, 30, 30, 30, 30, 30, 30, 34, 34, 39]\n"
     ]
    }
   ],
   "source": [
    "# On crée un tableau s complétés de zéros.\n",
    "s=[0]*12\n",
    "\n",
    "# On itère sur les tableaux et on affecte la somme des tableau t et t1 au tableau s.\n",
    "for i in range(12):\n",
    "    s[i]=t[i]+t1[i]\n",
    "\n",
    "# On affiche s    \n",
    "print(\"Le tableau somme est:\",s)"
   ]
  },
  {
   "cell_type": "code",
   "execution_count": 12,
   "metadata": {},
   "outputs": [
    {
     "name": "stdout",
     "output_type": "stream",
     "text": [
      "Une valeur chosie dans le tableau est: 23\n"
     ]
    }
   ],
   "source": [
    "# On importe la librairie random pour utiliser ses fonctions dont randint.\n",
    "import random as r\n",
    "\n",
    "# On crée la fonction aleat qui renvoie une valeur du tableau dont l'indice est choisi aléatoirement.\n",
    "def aleat():\n",
    "    indice=r.randint(0,len(t)-1)\n",
    "    return t[indice]\n",
    "\n",
    "# On déclare une variable \"valeur_aleatoire\" et on lui affecte la valeur renvoyée par la fonction aleat()\n",
    "valeur_aleatoire=aleat()\n",
    "print(\"Une valeur chosie dans le tableau est:\",valeur_aleatoire)"
   ]
  },
  {
   "cell_type": "markdown",
   "metadata": {},
   "source": [
    "# Exercice 2\n",
    "\n",
    "1. Créer une fonction **tabalea** qui retourne un tableau avec des entiers choisis aléatoirement compris entre 1 et 100 et dont la dimension sera passée en paramètre.     \n",
    "*Par exemple :* **tabalea**(50) retourne un tableau avec 50 entiers alatoirement pris entre 1 et 100.\n",
    "2. Créer une fonction **tabmax** qui prend en paramètre un tableau et qui retourne son plus grand élément avec son indice. On obtient un **tuple** de dimension 2.\n",
    "3. Créer une fonction **tabin** qui prend en paramètres un nombre entier et un tableau et retourne **True** si le nombre est présent dans le tableau et **False** dans le cas contraire.\n",
    "4. Créer une fonction **tabmode** qui prend en paramètre un tableau et retourne la valeur dominante, c'est à dire la valeur du tableau la plus représentée, et le nombre de fois que celle-ci est présente.\n",
    "5. a) Créer une variable montab contenant un tableau aléatoire de 50 valeurs entières comprises entre 1 et 100.    \n",
    "b) Afficher la plus grande valeur du tableau.    \n",
    "c) Afficher la valeur dominante du tableau (la plus présente)."
   ]
  },
  {
   "cell_type": "code",
   "execution_count": 28,
   "metadata": {},
   "outputs": [
    {
     "name": "stdout",
     "output_type": "stream",
     "text": [
      "[13, 30, 93, 1, 23, 77, 53, 7, 55, 66, 69, 87, 60, 4, 86, 52, 50, 23, 70, 72]\n"
     ]
    }
   ],
   "source": [
    "# On importe la librairie random pour utiliser ses fonctions dont randint.\n",
    "import random as r\n",
    "\n",
    "# On crée la fonction tabalea qui prend en paramètre la dimension (n) du tableau à créer.\n",
    "def tabalea(n):\n",
    "    # On crée un tableau vide\n",
    "    t=[0]*n\n",
    "    # On itère pour remplacer les zéros par des entiers choisi aléatoirement entre 1 et 100.\n",
    "    for i in range(n):\n",
    "        t[i]=r.randint(1,100)\n",
    "    return t\n",
    "\n",
    "# On déclare une variable \"mon_tableau\" et on lui affecte un tableau de 20 nombres entiers (aléatoires).\n",
    "mon_tableau=tabalea(20)\n",
    "print(mon_tableau)"
   ]
  },
  {
   "cell_type": "code",
   "execution_count": 18,
   "metadata": {},
   "outputs": [
    {
     "name": "stdout",
     "output_type": "stream",
     "text": [
      "(100, 9)\n"
     ]
    }
   ],
   "source": [
    "# On crée une fonction tabmax qui doit trouver la plus grande valeur d'un tableau non trié.\n",
    "# Le tableau est passé en paramètre (t).\n",
    "# La fonction renvoie un tuple composé du maximum du tableau et de son indice : (m,indice).\n",
    "# Avant d'itérer sur les valeurs du tableau, on initialise m à 0 et indice à 0.\n",
    "# On compare chaque valeur du tableau avec m (maximum). Si la valeur du tableau est plus grande, \n",
    "# alors m prend la valeur du tableau comme maximum.\n",
    "\n",
    "def tabmax(t):\n",
    "    if t!=[]:\n",
    "        m,indice=t[0],0\n",
    "        for i in range(len(t)):\n",
    "            if m < t[i]:\n",
    "                m=t[i]\n",
    "                indice=i\n",
    "        return (m,indice)\n",
    "    else: return (0,0)\n",
    "    \n",
    "mon_max_indice_tableau=tabmax(mon_tableau)\n",
    "print(mon_max_indice_tableau)"
   ]
  },
  {
   "cell_type": "code",
   "execution_count": 24,
   "metadata": {},
   "outputs": [
    {
     "name": "stdout",
     "output_type": "stream",
     "text": [
      "True False\n"
     ]
    }
   ],
   "source": [
    "# On crée une fonction qui vérife la présence d'une valeur dans le tableau passé en paramètre.\n",
    "# Si la valeur cherchée est présente, on renvoie vrai, faux sinon.\n",
    "# La fonction tab.count(valeur) renvoie le nombre de fois que valeur est présente dans le tableau tab\n",
    "\n",
    "def tabin(n,t):\n",
    "    if t.count(n)!=0:\n",
    "        return True\n",
    "    else: \n",
    "        return False\n",
    "\n",
    "test1=tabin(54,mon_tableau) # 54 est dans le tableau\n",
    "test2=tabin(56,mon_tableau) # 56 n'est pas dans le tableau\n",
    "print(test1,test2)"
   ]
  },
  {
   "cell_type": "code",
   "execution_count": 25,
   "metadata": {},
   "outputs": [],
   "source": [
    "# On crée la fonction tabmode qui renvoie la valeur la plus présente dans le tableau et le nombre de fois qu'elle\n",
    "# est présente qu'on appelle occurences.\n",
    "# On déclare les variables mode (valeur la plus présente) et effectif (nombre d'occurences)\n",
    "# On initialise mode et effectif chacune à 0.\n",
    "# On itère sur le tableau et on utilise la fonction count() sur chaque valeur du tableau.\n",
    "# La variable effectif prend le nombre d'occurences d'une valeur du tableau si elle est supérieure.\n",
    "\n",
    "def tabmode(t):\n",
    "    mode,effectif=0,0\n",
    "    for i in range(len(t)):\n",
    "        if t.count(t[i])>effectif:\n",
    "            print(t[i],t.count(t[i]))\n",
    "            mode,effectif=t[i],t.count(t[i])\n",
    "    return mode,effectif"
   ]
  },
  {
   "cell_type": "code",
   "execution_count": 29,
   "metadata": {},
   "outputs": [
    {
     "name": "stdout",
     "output_type": "stream",
     "text": [
      "[13, 30, 93, 1, 23, 77, 53, 7, 55, 66, 69, 87, 60, 4, 86, 52, 50, 23, 70, 72]\n",
      "La valeur maximale du tableau est : 93\n",
      "13 1\n",
      "23 2\n",
      "13 1\n",
      "23 2\n",
      "La valeur dominante de mon tableau est 23 présente 2 fois.\n"
     ]
    }
   ],
   "source": [
    "print(mon_tableau)\n",
    "print(\"La valeur maximale du tableau est :\",tabmax(mon_tableau)[0])\n",
    "print(\"La valeur dominante de mon tableau est\",tabmode(mon_tableau)[0],\"présente\",tabmode(mon_tableau)[1],\"fois.\")"
   ]
  },
  {
   "cell_type": "code",
   "execution_count": 165,
   "metadata": {
    "scrolled": true
   },
   "outputs": [
    {
     "name": "stdout",
     "output_type": "stream",
     "text": [
      "[95, 46, 32, 69, 50, 93, 13, 13, 53, 95, 53, 70, 41, 47, 35, 67, 83, 61, 25, 67, 48, 75, 14, 35, 18, 90, 48, 74, 73, 64, 78, 97, 67, 31, 52, 28, 37, 76, 81, 30, 72, 86, 48, 92, 37, 87, 92, 80, 46, 29]"
     ]
    }
   ],
   "source": [
    "print(montab,end='')"
   ]
  },
  {
   "cell_type": "markdown",
   "metadata": {
    "scrolled": true
   },
   "source": [
    "# Exercice 3\n",
    "\n",
    "1. Créer deux tableaux **jours** et **mois** regroupant toutes les valeurs possibles.\n",
    "2. Créer la fonction **affiche_janvier** affichant tout le mois de janvier commençant par un lundi 1 janvier.\n",
    "3. Modifier la fonction **affiche_janvier** prenant en paramètre le premier jour du mois (lundi, mardi, mercredi,...) et affichant le mois en conséquence.\n",
    "4. Créer la fonction **affiche_mois** prenant comme paramètre un mois et le premier jour du mois et affichant le mois. On prendra en compte le nombre de jours dans le mois.\n",
    "5. Écrire une fonction **est_bissextile** prenant en paramètre l'année et retourne **True** si elle est bissextile ou **False** dans le cas contraire. On rappelle qu'une année est bissextile si elle est un multiple de 4 mais pas un multiple de 100, ou si elle est un multiple de 400.\n",
    "6. Modifier la fonction **affiche_mois** en ajoutant comme paramètre l'année et affichant le mois de février avec 28 ou 29 jours.\n",
    "7. Modifier la fonction **affiche_mois** pour qu'elle retourne un tableau des dates demandées."
   ]
  },
  {
   "cell_type": "code",
   "execution_count": 30,
   "metadata": {},
   "outputs": [],
   "source": [
    "jours=(\"lundi\",\"mardi\",\"mercredi\",\"jeudi\",\"vendredi\",\"samedi\",\"dimanche\")\n",
    "mois=(\"janvier\",\"février\",\"mars\",\"avril\",\"mai\",\"juin\",\"juillet\",\"août\",\"septembre\",\"octobre\",\"novembre\",\"décembre\")"
   ]
  },
  {
   "cell_type": "code",
   "execution_count": 31,
   "metadata": {},
   "outputs": [],
   "source": [
    "# La fonction affiche le mois de janvier en commençant par le lundi 1 janvier.\n",
    "# Une semaine compte 7 jours, donc on divise le compteur de boucle par 7 et on prend le reste qui devient alors \n",
    "# l'indice du tableau jours.\n",
    "# Par exemple: \n",
    "# Quand i=25, alors 25:7=3 reste 4 car 3x7+4=25.\n",
    "# Donc on affiche jours[4], soit le jeudi, lorsque i=25 ce qui donne jeudi 25 janvier.\n",
    "\n",
    "def affiche_janvier():\n",
    "    for i in range(31):\n",
    "        print(jours[i%7],i+1,\"janvier\")"
   ]
  },
  {
   "cell_type": "code",
   "execution_count": 32,
   "metadata": {},
   "outputs": [
    {
     "name": "stdout",
     "output_type": "stream",
     "text": [
      "lundi 1 janvier\n",
      "mardi 2 janvier\n",
      "mercredi 3 janvier\n",
      "jeudi 4 janvier\n",
      "vendredi 5 janvier\n",
      "samedi 6 janvier\n",
      "dimanche 7 janvier\n",
      "lundi 8 janvier\n",
      "mardi 9 janvier\n",
      "mercredi 10 janvier\n",
      "jeudi 11 janvier\n",
      "vendredi 12 janvier\n",
      "samedi 13 janvier\n",
      "dimanche 14 janvier\n",
      "lundi 15 janvier\n",
      "mardi 16 janvier\n",
      "mercredi 17 janvier\n",
      "jeudi 18 janvier\n",
      "vendredi 19 janvier\n",
      "samedi 20 janvier\n",
      "dimanche 21 janvier\n",
      "lundi 22 janvier\n",
      "mardi 23 janvier\n",
      "mercredi 24 janvier\n",
      "jeudi 25 janvier\n",
      "vendredi 26 janvier\n",
      "samedi 27 janvier\n",
      "dimanche 28 janvier\n",
      "lundi 29 janvier\n",
      "mardi 30 janvier\n",
      "mercredi 31 janvier\n"
     ]
    }
   ],
   "source": [
    "affiche_janvier()"
   ]
  },
  {
   "cell_type": "code",
   "execution_count": 34,
   "metadata": {},
   "outputs": [],
   "source": [
    "# La fonction est modifiée pour que le premier jour du mois ne soit pas forcément un lundi.\n",
    "# Pour commencer un jeudi, on applelle la fonction \"affiche_janvier(\"jeudi\")\"\n",
    "# L'indice correspondant à jeudi est d=4.\n",
    "# On va itérer (boucle) i de 4 à 35 ce qui fait bien 31 valeurs.\n",
    "# Pour avoir la date correcte : jeudi 1 janvier on calcule i-d+1=4-4+1 et ainsi de suite\n",
    "# vendredi 2 janvier (5-4+1=2), samedi 3 janvier (6-4+1=3, etc.\n",
    "\n",
    "def affiche_janvier(j):\n",
    "    # la fonction index renvoie l'indice du tableau correspondant au jour donné en paramètre (jeudi => 4)\n",
    "    d=jours.index(j)\n",
    "    #On itère sur 31 valeurs (janvier) en commençan à l'index et finissant à l'index + 31\n",
    "    for i in range(d,31+d):\n",
    "        print(jours[i%7],i-d+1,\"janvier\")"
   ]
  },
  {
   "cell_type": "code",
   "execution_count": 35,
   "metadata": {},
   "outputs": [
    {
     "name": "stdout",
     "output_type": "stream",
     "text": [
      "jeudi 1 janvier\n",
      "vendredi 2 janvier\n",
      "samedi 3 janvier\n",
      "dimanche 4 janvier\n",
      "lundi 5 janvier\n",
      "mardi 6 janvier\n",
      "mercredi 7 janvier\n",
      "jeudi 8 janvier\n",
      "vendredi 9 janvier\n",
      "samedi 10 janvier\n",
      "dimanche 11 janvier\n",
      "lundi 12 janvier\n",
      "mardi 13 janvier\n",
      "mercredi 14 janvier\n",
      "jeudi 15 janvier\n",
      "vendredi 16 janvier\n",
      "samedi 17 janvier\n",
      "dimanche 18 janvier\n",
      "lundi 19 janvier\n",
      "mardi 20 janvier\n",
      "mercredi 21 janvier\n",
      "jeudi 22 janvier\n",
      "vendredi 23 janvier\n",
      "samedi 24 janvier\n",
      "dimanche 25 janvier\n",
      "lundi 26 janvier\n",
      "mardi 27 janvier\n",
      "mercredi 28 janvier\n",
      "jeudi 29 janvier\n",
      "vendredi 30 janvier\n",
      "samedi 31 janvier\n"
     ]
    }
   ],
   "source": [
    "affiche_janvier(\"jeudi\")"
   ]
  },
  {
   "cell_type": "code",
   "execution_count": 36,
   "metadata": {},
   "outputs": [],
   "source": [
    "# On généralise à tous les mois de l'année. Cela implique de tester s'ils ont 28, 30 ou 31 jours.\n",
    "\n",
    "def affiche_mois(m,j):\n",
    "    d=jours.index(j)\n",
    "    p=mois.index(m)\n",
    "    if p==0 or p==2 or p==4 or p==6 or p==7 or p==9 or p==11:\n",
    "        for i in range(d,31+d):\n",
    "            print(jours[i%7],i-d+1,m)\n",
    "    elif p==3 or p==5 or p==8 or p==10:\n",
    "        for i in range(d,30+d):\n",
    "            print(jours[i%7],i-d+1,m)\n",
    "    else:\n",
    "        for i in range(d,28+d):\n",
    "            print(jours[i%7],i-d+1,m)"
   ]
  },
  {
   "cell_type": "code",
   "execution_count": 39,
   "metadata": {},
   "outputs": [
    {
     "name": "stdout",
     "output_type": "stream",
     "text": [
      "jeudi 1 février\n",
      "vendredi 2 février\n",
      "samedi 3 février\n",
      "dimanche 4 février\n",
      "lundi 5 février\n",
      "mardi 6 février\n",
      "mercredi 7 février\n",
      "jeudi 8 février\n",
      "vendredi 9 février\n",
      "samedi 10 février\n",
      "dimanche 11 février\n",
      "lundi 12 février\n",
      "mardi 13 février\n",
      "mercredi 14 février\n",
      "jeudi 15 février\n",
      "vendredi 16 février\n",
      "samedi 17 février\n",
      "dimanche 18 février\n",
      "lundi 19 février\n",
      "mardi 20 février\n",
      "mercredi 21 février\n",
      "jeudi 22 février\n",
      "vendredi 23 février\n",
      "samedi 24 février\n",
      "dimanche 25 février\n",
      "lundi 26 février\n",
      "mardi 27 février\n",
      "mercredi 28 février\n"
     ]
    }
   ],
   "source": [
    "affiche_mois(\"février\",\"jeudi\")"
   ]
  },
  {
   "cell_type": "code",
   "execution_count": 40,
   "metadata": {},
   "outputs": [],
   "source": [
    "# Le mois de février a 28 ou 29 jours selon que les années sont bissextiles ou non.\n",
    "# La fonction teste cela : vrai ou faux.\n",
    "\n",
    "def est_bissextille(annee):\n",
    "    if ((annee%4==0) and (annee%100!=0)) or (annee%400==0):\n",
    "        return True\n",
    "    else:\n",
    "        return False"
   ]
  },
  {
   "cell_type": "code",
   "execution_count": 189,
   "metadata": {},
   "outputs": [],
   "source": [
    "# Si l'année est bissextile, février a 29 jours sinon 28.\n",
    "\n",
    "def affiche_mois(a,m,j):\n",
    "    d=jours.index(j)\n",
    "    p=mois.index(m)+1\n",
    "    if p==1 or p==3 or p==5 or p==7 or p==8 or p==10 or p==12:\n",
    "        for i in range(d,31+d):\n",
    "            print(jours[i%7],i-d+1,m)\n",
    "    elif p==4 or p==6 or p==9 or p==11:\n",
    "        for i in range(d,30+d):\n",
    "            print(jours[i%7],i-d+1,m)\n",
    "    else:\n",
    "        if est_bissextille(a):\n",
    "            for i in range(d,29+d):\n",
    "                print(jours[i%7],i-d+1,m)\n",
    "        else:\n",
    "            for i in range(d,28+d):\n",
    "                print(jours[i%7],i-d+1,m)"
   ]
  },
  {
   "cell_type": "code",
   "execution_count": 192,
   "metadata": {
    "scrolled": false
   },
   "outputs": [
    {
     "name": "stdout",
     "output_type": "stream",
     "text": [
      "mardi 1 février\n",
      "mercredi 2 février\n",
      "jeudi 3 février\n",
      "vendredi 4 février\n",
      "samedi 5 février\n",
      "dimanche 6 février\n",
      "lundi 7 février\n",
      "mardi 8 février\n",
      "mercredi 9 février\n",
      "jeudi 10 février\n",
      "vendredi 11 février\n",
      "samedi 12 février\n",
      "dimanche 13 février\n",
      "lundi 14 février\n",
      "mardi 15 février\n",
      "mercredi 16 février\n",
      "jeudi 17 février\n",
      "vendredi 18 février\n",
      "samedi 19 février\n",
      "dimanche 20 février\n",
      "lundi 21 février\n",
      "mardi 22 février\n",
      "mercredi 23 février\n",
      "jeudi 24 février\n",
      "vendredi 25 février\n",
      "samedi 26 février\n",
      "dimanche 27 février\n",
      "lundi 28 février\n"
     ]
    }
   ],
   "source": [
    "affiche_mois(2021,\"février\",\"mardi\")"
   ]
  },
  {
   "cell_type": "markdown",
   "metadata": {},
   "source": [
    "# Exercice 4\n",
    "\n",
    "1. Créer un tableau de 8 valeurs, chaque valeur étant un fruit commençant par une lettre différente !    \n",
    "Trier le tableau avec la fonction sort.\n",
    "2. Créer une fonction **échange** prenant en paramètre un tableau et deux indices i et j et qui renvoie le tableau avec les valeurs d'indices i et j permutées.\n",
    "3. Créer une fonction **mélange** qui prend en paramètre un tableau et mélange aléatoirement les valeurs de ce tableau. On pourra utiliser la fonction échange à plusieurs reprises avec des indices choisis aléatoirement."
   ]
  },
  {
   "cell_type": "code",
   "execution_count": 28,
   "metadata": {},
   "outputs": [],
   "source": [
    "fruits=['pomme','abricot','banane','nectarine','cerise','fraise','mure','groseille']"
   ]
  },
  {
   "cell_type": "code",
   "execution_count": 35,
   "metadata": {},
   "outputs": [
    {
     "data": {
      "text/plain": [
       "['abricot',\n",
       " 'banane',\n",
       " 'cerise',\n",
       " 'fraise',\n",
       " 'groseille',\n",
       " 'mure',\n",
       " 'nectarine',\n",
       " 'pomme']"
      ]
     },
     "execution_count": 35,
     "metadata": {},
     "output_type": "execute_result"
    }
   ],
   "source": [
    "fruits.sort()\n",
    "fruits"
   ]
  },
  {
   "cell_type": "code",
   "execution_count": 23,
   "metadata": {},
   "outputs": [],
   "source": [
    "def échange(t,i,j):\n",
    "    t[i],t[j]=t[j],t[i]\n",
    "    return t"
   ]
  },
  {
   "cell_type": "code",
   "execution_count": 24,
   "metadata": {},
   "outputs": [
    {
     "data": {
      "text/plain": [
       "['abricot',\n",
       " 'fraise',\n",
       " 'cerise',\n",
       " 'banane',\n",
       " 'groseille',\n",
       " 'mure',\n",
       " 'nectarine',\n",
       " 'pomme']"
      ]
     },
     "execution_count": 24,
     "metadata": {},
     "output_type": "execute_result"
    }
   ],
   "source": [
    "échange(fruits,1,3)"
   ]
  },
  {
   "cell_type": "code",
   "execution_count": 38,
   "metadata": {
    "scrolled": true
   },
   "outputs": [
    {
     "name": "stdout",
     "output_type": "stream",
     "text": [
      "3 4 ['abricot', 'banane', 'cerise', 'groseille', 'fraise', 'mure', 'nectarine', 'pomme']\n",
      "0 7 ['pomme', 'banane', 'cerise', 'groseille', 'fraise', 'mure', 'nectarine', 'abricot']\n",
      "5 2 ['pomme', 'banane', 'mure', 'groseille', 'fraise', 'cerise', 'nectarine', 'abricot']\n",
      "2 4 ['pomme', 'banane', 'fraise', 'groseille', 'mure', 'cerise', 'nectarine', 'abricot']\n",
      "1 2 ['pomme', 'fraise', 'banane', 'groseille', 'mure', 'cerise', 'nectarine', 'abricot']\n",
      "7 3 ['pomme', 'fraise', 'banane', 'abricot', 'mure', 'cerise', 'nectarine', 'groseille']\n",
      "3 6 ['pomme', 'fraise', 'banane', 'nectarine', 'mure', 'cerise', 'abricot', 'groseille']\n",
      "4 0 ['mure', 'fraise', 'banane', 'nectarine', 'pomme', 'cerise', 'abricot', 'groseille']\n",
      "1 7 ['mure', 'groseille', 'banane', 'nectarine', 'pomme', 'cerise', 'abricot', 'fraise']\n",
      "2 6 ['mure', 'groseille', 'abricot', 'nectarine', 'pomme', 'cerise', 'banane', 'fraise']\n"
     ]
    },
    {
     "data": {
      "text/plain": [
       "['mure',\n",
       " 'groseille',\n",
       " 'abricot',\n",
       " 'nectarine',\n",
       " 'pomme',\n",
       " 'cerise',\n",
       " 'banane',\n",
       " 'fraise']"
      ]
     },
     "execution_count": 38,
     "metadata": {},
     "output_type": "execute_result"
    }
   ],
   "source": [
    "import random as r\n",
    "\n",
    "def mélange(t):\n",
    "    for _ in range(10):\n",
    "        i=r.randint(0,7)\n",
    "        j=r.randint(0,7)\n",
    "        if i!=j:\n",
    "            échange(t,i,j)\n",
    "        print(i,j,t)\n",
    "    return t\n",
    "\n",
    "fruits.sort()\n",
    "mélange(fruits)"
   ]
  },
  {
   "cell_type": "markdown",
   "metadata": {},
   "source": [
    "# Exercice 5"
   ]
  },
  {
   "cell_type": "code",
   "execution_count": 41,
   "metadata": {},
   "outputs": [
    {
     "name": "stdout",
     "output_type": "stream",
     "text": [
      "[0, 1, 2, 3, 4, 5, 6, 7, 8, 9, 10, 11, 12]\n"
     ]
    }
   ],
   "source": [
    "a=[i for i in range(13)]\n",
    "print(a)"
   ]
  },
  {
   "cell_type": "code",
   "execution_count": 42,
   "metadata": {},
   "outputs": [
    {
     "name": "stdout",
     "output_type": "stream",
     "text": [
      "[0, 2, 4, 6, 8, 10, 12, 14]\n"
     ]
    }
   ],
   "source": [
    "b=[i*2 for i in range(8)]\n",
    "print(b)"
   ]
  },
  {
   "cell_type": "code",
   "execution_count": 43,
   "metadata": {},
   "outputs": [
    {
     "name": "stdout",
     "output_type": "stream",
     "text": [
      "[1, 3, 5, 7, 9, 11, 13]\n"
     ]
    }
   ],
   "source": [
    "c=[i for i in range(1,15,2)]\n",
    "print(c)"
   ]
  },
  {
   "cell_type": "code",
   "execution_count": 44,
   "metadata": {},
   "outputs": [
    {
     "name": "stdout",
     "output_type": "stream",
     "text": [
      "[1, 4, 9, 16, 25, 36, 49, 64, 81]\n"
     ]
    }
   ],
   "source": [
    "d=[i**2 for i in range(1,10)]\n",
    "print(d)"
   ]
  },
  {
   "cell_type": "code",
   "execution_count": 45,
   "metadata": {},
   "outputs": [
    {
     "name": "stdout",
     "output_type": "stream",
     "text": [
      "[1, 2, 4, 8, 16, 32, 64, 128]\n"
     ]
    }
   ],
   "source": [
    "e=[2**i for i in range(8)]\n",
    "print(e)"
   ]
  },
  {
   "cell_type": "code",
   "execution_count": 46,
   "metadata": {},
   "outputs": [
    {
     "name": "stdout",
     "output_type": "stream",
     "text": [
      "['A', 'B', 'C', 'D', 'E', 'F', 'G', 'H', 'I', 'J', 'K', 'L', 'M', 'N', 'O', 'P', 'Q', 'R', 'S', 'T', 'U', 'V', 'W', 'X', 'Y', 'Z']\n"
     ]
    }
   ],
   "source": [
    "f=[chr(i) for i in range(65,91)]\n",
    "print(f)"
   ]
  },
  {
   "cell_type": "code",
   "execution_count": 47,
   "metadata": {
    "scrolled": true
   },
   "outputs": [
    {
     "name": "stdout",
     "output_type": "stream",
     "text": [
      "[[0, 0, 0, 0], [0, 0, 0, 0], [0, 0, 0, 0], [0, 0, 0, 0]]\n"
     ]
    }
   ],
   "source": [
    "h=[[0]*4 for i in range(4)]\n",
    "print(h)"
   ]
  },
  {
   "cell_type": "markdown",
   "metadata": {},
   "source": [
    "# Exercice 6\n",
    "\n",
    "1. Créer un tableau t de dimension aléatoire n dont les valeurs sont des nombres entiers consécutifs inférieurs à 20. Par exemple, si n=4, alors t=[0,1,2,3,4]\n",
    "2. Créer une fonction **prolonge** qui ajoute au tableau t de nombres entiers rangés par ordre croissant, le nombres entiers consécutifs jusqu'à 20.\n",
    "3. Créer une fonction **miroir** qui ajoute au tableau t de nombres entiers rangés par ordre croissant, les nombres entiers décroissants jusqu'à 0 sans aucune répétition."
   ]
  },
  {
   "cell_type": "code",
   "execution_count": 57,
   "metadata": {},
   "outputs": [
    {
     "data": {
      "text/plain": [
       "[0, 1, 2, 3, 4]"
      ]
     },
     "execution_count": 57,
     "metadata": {},
     "output_type": "execute_result"
    }
   ],
   "source": [
    "import random as r\n",
    "\n",
    "n=r.randint(1,20)\n",
    "t=[i for i in range(n)]\n",
    "t"
   ]
  },
  {
   "cell_type": "code",
   "execution_count": 58,
   "metadata": {},
   "outputs": [],
   "source": [
    "def prolonge(t):\n",
    "    d=t[-1]+1\n",
    "    f=[i for i in range(d,21)]\n",
    "    t=t+f\n",
    "    return t"
   ]
  },
  {
   "cell_type": "code",
   "execution_count": 59,
   "metadata": {},
   "outputs": [
    {
     "data": {
      "text/plain": [
       "[0, 1, 2, 3, 4, 5, 6, 7, 8, 9, 10, 11, 12, 13, 14, 15, 16, 17, 18, 19, 20]"
      ]
     },
     "execution_count": 59,
     "metadata": {},
     "output_type": "execute_result"
    }
   ],
   "source": [
    "prolonge(t)"
   ]
  },
  {
   "cell_type": "code",
   "execution_count": 60,
   "metadata": {},
   "outputs": [],
   "source": [
    "def miroir(t):\n",
    "    d=t[-1]\n",
    "    f=[i-1 for i in range(d,0,-1)]\n",
    "    t=t+f\n",
    "    return t    "
   ]
  },
  {
   "cell_type": "code",
   "execution_count": 61,
   "metadata": {},
   "outputs": [
    {
     "data": {
      "text/plain": [
       "[0, 1, 2, 3, 4, 3, 2, 1, 0]"
      ]
     },
     "execution_count": 61,
     "metadata": {},
     "output_type": "execute_result"
    }
   ],
   "source": [
    "miroir(t)"
   ]
  },
  {
   "cell_type": "markdown",
   "metadata": {},
   "source": [
    "# Exercice 7\n",
    "\n",
    "1. Créer une fonction **nouvelleGrille** qui crée un tableau de tableaux de dimension $10 \\times 10$, c'est à dire de $10$ lignes et $10$ colonnes initialisée avec des zéros.     \n",
    "Créer la variable **maGrille** qui est une grille $10 \\times 10$ de zéros.\n",
    "2. Créer une fonction **alimente** qui remplit la grille avec des nombres entiers aléatoirement choisis entre 0 et 200. Alimenter la variable **maGrille**.\n",
    "3. Créer une fonction **tabmax** qui renvoie la plus grande valeur d'un tableau (voir exercice 2).\n",
    "4. Créer une fonction **transpose** qui prend en paramètre une grille et renvoie une grille dont les lignes sont les colonnes de la grille saisie en paramètre.\n",
    "5. Créer une fonction **maxiligne** qui renvoie un tableau contenant la valeur maximale de chaque ligne de la grille. Penser à utiliser la fonction tabmax.\n",
    "6. Créer une fonction **maxicolonne** qui renvoie un tableau contenant la valeur maximale de chaque colonne de la grille. Penser à utiliser la fonction tabmax et la fonction transpose."
   ]
  },
  {
   "cell_type": "code",
   "execution_count": 104,
   "metadata": {},
   "outputs": [],
   "source": [
    "import random as r\n",
    "\n",
    "def nouvelleGrille(m,n):\n",
    "    return [[0]*m for i in range(n)]"
   ]
  },
  {
   "cell_type": "code",
   "execution_count": 124,
   "metadata": {},
   "outputs": [
    {
     "name": "stdout",
     "output_type": "stream",
     "text": [
      "[[0, 0, 0, 0, 0, 0, 0, 0], [0, 0, 0, 0, 0, 0, 0, 0], [0, 0, 0, 0, 0, 0, 0, 0], [0, 0, 0, 0, 0, 0, 0, 0], [0, 0, 0, 0, 0, 0, 0, 0], [0, 0, 0, 0, 0, 0, 0, 0], [0, 0, 0, 0, 0, 0, 0, 0], [0, 0, 0, 0, 0, 0, 0, 0], [0, 0, 0, 0, 0, 0, 0, 0], [0, 0, 0, 0, 0, 0, 0, 0]]\n",
      "10\n"
     ]
    }
   ],
   "source": [
    "maGrille=nouvelleGrille(8,10)\n",
    "print(maGrille)\n",
    "print(len(maGrille))"
   ]
  },
  {
   "cell_type": "code",
   "execution_count": 125,
   "metadata": {},
   "outputs": [],
   "source": [
    "def alimente(g):\n",
    "    for i in range(len(g)):\n",
    "        for j in range(len(g[0])):\n",
    "            g[i][j]=r.randint(0,200)\n",
    "    return g"
   ]
  },
  {
   "cell_type": "code",
   "execution_count": 126,
   "metadata": {},
   "outputs": [
    {
     "data": {
      "text/plain": [
       "[[132, 163, 86, 132, 75, 8, 4, 110],\n",
       " [51, 143, 18, 157, 99, 152, 27, 161],\n",
       " [0, 150, 133, 87, 175, 145, 57, 45],\n",
       " [34, 156, 200, 96, 147, 154, 61, 126],\n",
       " [53, 156, 167, 107, 183, 49, 140, 3],\n",
       " [184, 42, 121, 29, 96, 37, 62, 154],\n",
       " [117, 61, 188, 170, 142, 93, 112, 80],\n",
       " [170, 46, 2, 38, 194, 96, 182, 102],\n",
       " [22, 92, 16, 157, 144, 73, 48, 199],\n",
       " [100, 171, 180, 192, 108, 94, 147, 156]]"
      ]
     },
     "execution_count": 126,
     "metadata": {},
     "output_type": "execute_result"
    }
   ],
   "source": [
    "alimente(maGrille)"
   ]
  },
  {
   "cell_type": "code",
   "execution_count": 131,
   "metadata": {},
   "outputs": [
    {
     "name": "stdout",
     "output_type": "stream",
     "text": [
      "[163, 161, 175, 200, 183, 184, 188, 194, 199, 192]\n"
     ]
    }
   ],
   "source": [
    "def tabmax(t):\n",
    "    if t!=[]:\n",
    "        m=t[0]\n",
    "        for i in range(len(t)):\n",
    "            if m < t[i]:\n",
    "                m=t[i]\n",
    "        return m\n",
    "    else: return 0\n",
    "\n",
    "# On cherche la valeur maximale de chaque tableau de maGrille.\n",
    "maxi=[0]*len(maGrille)\n",
    "for i in range(len(maGrille)):\n",
    "    maxi[i]=tabmax(maGrille[i])\n",
    "print(maxi)"
   ]
  },
  {
   "cell_type": "code",
   "execution_count": 132,
   "metadata": {},
   "outputs": [
    {
     "data": {
      "text/plain": [
       "[[132, 51, 0, 34, 53, 184, 117, 170, 22, 100],\n",
       " [163, 143, 150, 156, 156, 42, 61, 46, 92, 171],\n",
       " [86, 18, 133, 200, 167, 121, 188, 2, 16, 180],\n",
       " [132, 157, 87, 96, 107, 29, 170, 38, 157, 192],\n",
       " [75, 99, 175, 147, 183, 96, 142, 194, 144, 108],\n",
       " [8, 152, 145, 154, 49, 37, 93, 96, 73, 94],\n",
       " [4, 27, 57, 61, 140, 62, 112, 182, 48, 147],\n",
       " [110, 161, 45, 126, 3, 154, 80, 102, 199, 156]]"
      ]
     },
     "execution_count": 132,
     "metadata": {},
     "output_type": "execute_result"
    }
   ],
   "source": [
    "def transpose(g):\n",
    "    s=nouvelleGrille(len(g),len(g[0]))\n",
    "    for i in range(len(g[0])):\n",
    "        for j in range(len(g)):\n",
    "            s[i][j]=g[j][i]\n",
    "    return s\n",
    "\n",
    "transpose(maGrille)"
   ]
  },
  {
   "cell_type": "code",
   "execution_count": 133,
   "metadata": {},
   "outputs": [
    {
     "name": "stdout",
     "output_type": "stream",
     "text": [
      "[163, 161, 175, 200, 183, 184, 188, 194, 199, 192] [184, 171, 200, 192, 194, 154, 182, 199]\n"
     ]
    }
   ],
   "source": [
    "def maxiligne(g):\n",
    "    t=[]\n",
    "    for i in range(len(g)):\n",
    "        t.append(tabmax(g[i]))\n",
    "    return t\n",
    "\n",
    "def maxicolonne(g):\n",
    "    tg=transpose(g)\n",
    "    t=maxiligne(tg)\n",
    "    return t\n",
    "\n",
    "m=maxiligne(maGrille)\n",
    "c=maxicolonne(maGrille)\n",
    "print(m,c)"
   ]
  },
  {
   "cell_type": "code",
   "execution_count": null,
   "metadata": {},
   "outputs": [],
   "source": []
  }
 ],
 "metadata": {
  "kernelspec": {
   "display_name": "Python 3",
   "language": "python",
   "name": "python3"
  },
  "language_info": {
   "codemirror_mode": {
    "name": "ipython",
    "version": 3
   },
   "file_extension": ".py",
   "mimetype": "text/x-python",
   "name": "python",
   "nbconvert_exporter": "python",
   "pygments_lexer": "ipython3",
   "version": "3.7.4"
  },
  "latex_envs": {
   "bibliofile": "biblio.bib",
   "cite_by": "apalike",
   "current_citInitial": 1,
   "eqLabelWithNumbers": true,
   "eqNumInitial": 0
  }
 },
 "nbformat": 4,
 "nbformat_minor": 2
}
